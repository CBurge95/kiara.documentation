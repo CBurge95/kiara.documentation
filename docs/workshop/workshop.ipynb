{
 "cells": [
  {
   "attachments": {},
   "cell_type": "markdown",
   "metadata": {},
   "source": [
    "<h1>Hello <i>kiara</i>.</h1>\n",
    "\n",
    "This tutorial introduces *kiara*, a data orchestration software.\n",
    "It will walk you through installation of the software in Jupyter Notebooks, and some basic but essential functions that can be built on in further notebooks.\n",
    "\n",
    "This tutorial requires you to know **python** and **SQL**.\n",
    "\n",
    "\n",
    "<h2>Installation</h2>\n",
    "\n",
    "First, we need to check if *kiara* and its plugins are already installed, and install them if not. There are currently seven plugins:\n",
    "\n",
    "- `kiara_plugin.core-types`\n",
    "- `kiara_plugin.onboarding`\n",
    "- `kiara_plugin.tabular`\n",
    "- `kiara_plugin.network_analysis`\n",
    "- `kiara_plugin.language_processing`\n",
    "- `kiara_plugin.html`\n",
    "- `kiara_plugin.streamlit`\n",
    "\n",
    "All of these will be installed automatically alongside *kiara*, using the code below.\n",
    "\n",
    "<span style=\"color:blue\">\\* Note: would be great if this could link out to further documentation, with a separate section for each plugin, describing overall what is in each, then with specific details of the functions in each</span>"
   ]
  },
  {
   "cell_type": "code",
   "execution_count": null,
   "metadata": {
    "collapsed": false,
    "jupyter": {
     "outputs_hidden": false
    }
   },
   "outputs": [
    {
     "data": {
      "text/html": [
       "<pre style=\"white-space:pre;overflow-x:auto;line-height:normal;font-family:Menlo,'DejaVu Sans Mono',consolas,'Courier New',monospace\"><span style=\"color: #008000; text-decoration-color: #008000\">⠧</span> Installing kiara plugins...\n",
       "<span style=\"color: #008000; text-decoration-color: #008000\">⠧</span> Installing kiara plugins...</pre>\n"
      ],
      "text/plain": [
       "\r\n",
       "\u001b[2K\u001b[32m⠧\u001b[0m Installing kiara plugins...\n",
       "\u001b[32m⠧\u001b[0m Installing kiara plugins..."
      ]
     },
     "metadata": {},
     "output_type": "display_data"
    },
    {
     "data": {
      "text/html": [
       "<pre style=\"white-space:pre;overflow-x:auto;line-height:normal;font-family:Menlo,'DejaVu Sans Mono',consolas,'Courier New',monospace\">\n",
       "</pre>\n"
      ],
      "text/plain": [
       "\n",
       "\u001b[?25h\r\n",
       "\u001b[1A\u001b[2K"
      ]
     },
     "metadata": {},
     "output_type": "display_data"
    },
    {
     "data": {
      "text/html": [
       "<pre style=\"white-space:pre;overflow-x:auto;line-height:normal;font-family:Menlo,'DejaVu Sans Mono',consolas,'Courier New',monospace\">╭─ kiara plugin(s) installed ─────────────────────────────────────────────────────────────────────────────────────╮\n",
       "│ Installed packages:                                                                                             │\n",
       "│                                                                                                                 │\n",
       "│ <span style=\"color: #808000; text-decoration-color: #808000; font-weight: bold\"> • </span>kiara-plugin.core-types                                                                                      │\n",
       "│ <span style=\"color: #808000; text-decoration-color: #808000; font-weight: bold\"> • </span>kiara-plugin.tabular                                                                                         │\n",
       "│ <span style=\"color: #808000; text-decoration-color: #808000; font-weight: bold\"> • </span>kiara-plugin.onboarding                                                                                      │\n",
       "│ <span style=\"color: #808000; text-decoration-color: #808000; font-weight: bold\"> • </span>kiara-plugin.network-analysis                                                                                │\n",
       "│ <span style=\"color: #808000; text-decoration-color: #808000; font-weight: bold\"> • </span>kiara-plugin.language-processing                                                                             │\n",
       "│ <span style=\"color: #808000; text-decoration-color: #808000; font-weight: bold\"> • </span>kiara-plugin.html                                                                                            │\n",
       "│ <span style=\"color: #808000; text-decoration-color: #808000; font-weight: bold\"> • </span>kiara-plugin.streamlit                                                                                       │\n",
       "│                                                                                                                 │\n",
       "│ Depending on the state of your current environment, you might see error messages below, in which case you'll    │\n",
       "│ have to restart the jupyter kernel manually.                                                                    │\n",
       "╰─────────────────────────────────────────────────────────────────────────────────────────────────────────────────╯\n",
       "</pre>\n"
      ],
      "text/plain": [
       "╭─ kiara plugin(s) installed ─────────────────────────────────────────────────────────────────────────────────────╮\n",
       "│ Installed packages:                                                                                             │\n",
       "│                                                                                                                 │\n",
       "│ \u001b[1;33m • \u001b[0mkiara-plugin.core-types                                                                                      │\n",
       "│ \u001b[1;33m • \u001b[0mkiara-plugin.tabular                                                                                         │\n",
       "│ \u001b[1;33m • \u001b[0mkiara-plugin.onboarding                                                                                      │\n",
       "│ \u001b[1;33m • \u001b[0mkiara-plugin.network-analysis                                                                                │\n",
       "│ \u001b[1;33m • \u001b[0mkiara-plugin.language-processing                                                                             │\n",
       "│ \u001b[1;33m • \u001b[0mkiara-plugin.html                                                                                            │\n",
       "│ \u001b[1;33m • \u001b[0mkiara-plugin.streamlit                                                                                       │\n",
       "│                                                                                                                 │\n",
       "│ Depending on the state of your current environment, you might see error messages below, in which case you'll    │\n",
       "│ have to restart the jupyter kernel manually.                                                                    │\n",
       "╰─────────────────────────────────────────────────────────────────────────────────────────────────────────────────╯\n"
      ]
     },
     "execution_count": 1,
     "metadata": {},
     "output_type": "execute_result"
    }
   ],
   "source": [
    "try:\n",
    "    from kiara_plugin.jupyter import ensure_kiara_plugins\n",
    "except:\n",
    "    import sys\n",
    "    print(\"Installing 'kiara_plugin.jupyter'...\")\n",
    "    !{sys.executable} -m pip install -q kiara_plugin.jupyter\n",
    "    from kiara_plugin.jupyter import ensure_kiara_plugins\n",
    "\n",
    "ensure_kiara_plugins()\n"
   ]
  },
  {
   "attachments": {},
   "cell_type": "markdown",
   "metadata": {},
   "source": [
    "<h2>Running <i>kiara</i></h2>\n",
    "\n",
    "In order to use *kiara*, we need to create a `KiaraAPI` instance. An API allows us to control and interact with *kiara* and its functions. In *kiara* this also allows us to get more information about what can be done (and what is happening) to our data as we go.\n",
    "\n",
    "<span style=\"color:blue\">\\* Note: I'm calling the API 'kiara' at the moment because I think it simplifies it for people who don't know what an API is/how it functions and might get confused by the variable name. This keeps it grounded in 'kiara' (whilst indicating it's an API for those who want to know/already know more) - the first instance of kiara isn't used again in this notebook, but we can always reverse this if it makes things more complicated for follow-on notebooks!</span>"
   ]
  },
  {
   "cell_type": "code",
   "execution_count": null,
   "metadata": {
    "collapsed": false,
    "jupyter": {
     "outputs_hidden": false
    }
   },
   "outputs": [],
   "source": [
    "from kiara import KiaraAPI\n",
    "\n",
    "kiara = KiaraAPI.instance()"
   ]
  },
  {
   "attachments": {},
   "cell_type": "markdown",
   "metadata": {},
   "source": [
    "Now we have an API in place, we can get more information about what we can do in *kiara*. Let's start by asking *kiara* to list all the operations that are included with the plugins we just installed.\n",
    "\n",
    "The documentation for each of these functions can be found [here](https://dharpa.org/kiara/latest/reference/kiara/interfaces/python_api/__init__/#kiara.interfaces.python_api.KiaraAPI)"
   ]
  },
  {
   "cell_type": "code",
   "execution_count": null,
   "metadata": {},
   "outputs": [],
   "source": [
    "kiara.list_operation_ids()"
   ]
  },
  {
   "attachments": {},
   "cell_type": "markdown",
   "metadata": {},
   "source": [
    "<h3>Downloading Files</h3>\n",
    "\n",
    "Great, now we know the different kind of operations we can use with *kiara*. Let's start by introducing some files to our notebook, using the `download.file` function.<br/>\n",
    "First we want to find out what this operation does, and just as importantly, what inputs it needs to work."
   ]
  },
  {
   "cell_type": "code",
   "execution_count": null,
   "metadata": {},
   "outputs": [],
   "source": [
    "kiara.retrieve_operation_info('download.file')"
   ]
  },
  {
   "attachments": {},
   "cell_type": "markdown",
   "metadata": {},
   "source": [
    "So from this, we know that `download.file` will download a single file from a remote location for us to use in *kiara*. <br/>\n",
    "We need to give the function a **url** and, if we want, a **file name**. These are the <span style=\"color:green\">**inputs**</span>. <br/>\n",
    "In return, we will get the **file** and **metadata** about the file as our <span style=\"color:red\">**outputs**</span>.\n",
    "\n",
    "Let's give this a go using some *kiara* sample data.\n",
    "\n",
    "First we define our <span style=\"color:green\">inputs</span>, then use `kiara.run_job` with our chosen operation, `download.file`, and save this as our <span style=\"color:red\">outputs</span>."
   ]
  },
  {
   "cell_type": "code",
   "execution_count": null,
   "metadata": {},
   "outputs": [],
   "source": [
    "inputs = {\n",
    "        \"url\": \"https://raw.githubusercontent.com/DHARPA-Project/kiara.examples/main/examples/data/journals/JournalNodes1902.csv\",\n",
    "        \"file_name\": \"JournalNodes1902.csv\"\n",
    "}\n",
    "\n",
    "outputs = kiara.run_job('download.file', inputs=inputs)"
   ]
  },
  {
   "attachments": {},
   "cell_type": "markdown",
   "metadata": {},
   "source": [
    "Let's print out our <span style=\"color:red\">outputs</span> and see what that looks like."
   ]
  },
  {
   "cell_type": "code",
   "execution_count": null,
   "metadata": {},
   "outputs": [],
   "source": [
    "outputs"
   ]
  },
  {
   "attachments": {},
   "cell_type": "markdown",
   "metadata": {},
   "source": [
    "Great! We've successfully downloaded the file, and we can see there's lots of information here.\n",
    "\n",
    "At the moment, we're most interested in the **file** output. This contains the actual *contents* of the file that we have just downloaded.\n",
    "\n",
    "Let's separate this out and store it in a separate variable for us to use."
   ]
  },
  {
   "cell_type": "code",
   "execution_count": null,
   "metadata": {},
   "outputs": [],
   "source": [
    "downloaded_file = outputs['file']"
   ]
  },
  {
   "attachments": {},
   "cell_type": "markdown",
   "metadata": {},
   "source": [
    "<h3>New Formats: Creating and Converting</h3>\n",
    "\n",
    "What next? We could transform the downloaded file contents into a different format. <br/>\n",
    "Let's use the operation list earlier, and look for something that allows us to create something out of our new file."
   ]
  },
  {
   "cell_type": "code",
   "execution_count": null,
   "metadata": {},
   "outputs": [],
   "source": [
    "kiara.list_operation_ids('create')"
   ]
  },
  {
   "attachments": {},
   "cell_type": "markdown",
   "metadata": {},
   "source": [
    "Our file was orginally in a CSV format, so let's make a table using `create.table.from.file`. \n",
    "\n",
    "Just like when we used `download.file`, we can double check what this does, and what <span style=\"color:green\">inputs</span> and <span style=\"color:red\">outputs</span> this involves.\n",
    "\n",
    "This time, we're also going to use a variable to store the operation in - this is especially handy if the operation has a long name, or if you want to use the same operation more than once without retyping it."
   ]
  },
  {
   "cell_type": "code",
   "execution_count": null,
   "metadata": {},
   "outputs": [],
   "source": [
    "op_id = 'create.table.from.file'\n",
    "\n",
    "kiara.retrieve_operation_info(op_id)"
   ]
  },
  {
   "attachments": {},
   "cell_type": "markdown",
   "metadata": {},
   "source": [
    "Great, we have all the information we need now.\n",
    "\n",
    "Let's go again.\n",
    "\n",
    "First we define our <span style=\"color:green\">inputs</span>, the downloaded file we saved earlier.\n",
    "\n",
    "Then use `kiara.run_job` with our chosen operation, this time stored as `op_id`.\n",
    "\n",
    "Once this is saved as our <span style=\"color:red\">outputs</span>, we can print it out."
   ]
  },
  {
   "cell_type": "code",
   "execution_count": null,
   "metadata": {},
   "outputs": [],
   "source": [
    "inputs = {\n",
    "    \"file\": downloaded_file\n",
    "}\n",
    "\n",
    "outputs = kiara.run_job(op_id, inputs=inputs)\n",
    "\n",
    "outputs"
   ]
  },
  {
   "attachments": {},
   "cell_type": "markdown",
   "metadata": {},
   "source": [
    "This has done exactly what we wanted, and shown the contents from the downloaded file as a table. But we are also interested in some general (mostly internal) information and metadata, this time for the new table we have just created, rather than the original file itself.\n",
    "\n",
    "Let's have a look."
   ]
  },
  {
   "cell_type": "code",
   "execution_count": null,
   "metadata": {},
   "outputs": [],
   "source": [
    "outputs_table = outputs['table']\n",
    "\n",
    "outputs_table"
   ]
  },
  {
   "attachments": {},
   "cell_type": "markdown",
   "metadata": {},
   "source": [
    "<h3>Querying our Data</h3>\n",
    "\n",
    "So now we have downloaded our file and converted it into a table, we want to actually explore it.\n",
    "\n",
    "To do this, we can query the table using **SQL** and some functions already included in *kiara*.\n",
    "\n",
    "Let's take another look at that operation list, this time looking for functions that let us 'query'.\n"
   ]
  },
  {
   "cell_type": "code",
   "execution_count": null,
   "metadata": {},
   "outputs": [],
   "source": [
    "kiara.list_operation_ids('query')"
   ]
  },
  {
   "attachments": {},
   "cell_type": "markdown",
   "metadata": {},
   "source": [
    "Well, we already know our file has been converted into a table, so let's have a look at `query.table`."
   ]
  },
  {
   "cell_type": "code",
   "execution_count": null,
   "metadata": {},
   "outputs": [],
   "source": [
    "kiara.retrieve_operation_info('query.table')"
   ]
  },
  {
   "attachments": {},
   "cell_type": "markdown",
   "metadata": {},
   "source": [
    "So from this information, we only need to provide the **table** itself, and our **query**.\n",
    "\n",
    "Let's work out how many of these journals were published in Berlin."
   ]
  },
  {
   "cell_type": "code",
   "execution_count": null,
   "metadata": {},
   "outputs": [],
   "source": [
    "inputs = {\n",
    "    \"table\" = outputs_table\n",
    "    \"query\" = \"SELECT * from data where City like 'Berlin'\"\n",
    "}\n",
    "\n",
    "outputs = kiara.run_job('query.table', inputs=inputs)\n",
    "\n",
    "outputs"
   ]
  },
  {
   "attachments": {},
   "cell_type": "markdown",
   "metadata": {},
   "source": [
    "The function has returned the table with just the results we were looking for from the SQL query. \n",
    "\n",
    "Let's narrow this further, and find all the journals that are just about general medicine and published in Berlin.\n",
    "\n",
    "We can re-use the `query.table` function and the table we've just made, stored in `outputs['query_result']`"
   ]
  },
  {
   "cell_type": "code",
   "execution_count": null,
   "metadata": {},
   "outputs": [],
   "source": [
    "inputs = {\n",
    "    \"table\" : outputs['query_result'],\n",
    "    \"query\" : \"SELECT * from data where JournalType like 'general medicine'\"\n",
    "}\n",
    "\n",
    "outputs = kiara.run_job('query.table', inputs=inputs)\n",
    "\n",
    "outputs"
   ]
  },
  {
   "attachments": {},
   "cell_type": "markdown",
   "metadata": {},
   "source": [
    "<h3>Recording and Tracing our Data</h3>\n",
    "\n",
    "We've quite a few changes to this table, so let's double check the information about this new table we've created with our queries."
   ]
  },
  {
   "cell_type": "code",
   "execution_count": null,
   "metadata": {},
   "outputs": [],
   "source": [
    "query_output = outputs['query_result']\n",
    "\n",
    "query_output"
   ]
  },
  {
   "attachments": {},
   "cell_type": "markdown",
   "metadata": {},
   "source": [
    "Looks good!\n",
    "\n",
    "We might have changed things around, but we can still get lots of information about all our data.\n",
    "\n",
    "More importantly, *kiara* is able to trace all of these changes, tracking the inputs and outputs and giving them all different identifiers, so you know exactly what has happened to your data. <br/>Check it out!"
   ]
  },
  {
   "cell_type": "code",
   "execution_count": null,
   "metadata": {},
   "outputs": [],
   "source": [
    "query_output.lineage"
   ]
  },
  {
   "attachments": {},
   "cell_type": "markdown",
   "metadata": {},
   "source": [
    "Even though we are only actually asking for the **data lineage** using the *last* SQL query and the table it made, *kiara* shows us everything that has happened since we first downloaded the file. This helps us keep an eye on the research process *and* the changes we are making to the data at the same time!\n",
    "\n",
    "<h3>What next...?</h3>\n",
    "\n",
    "That's great, you've completed the first notebook and successfully installed *kiara*, downloaded files, tested out some functions, and are able to see what this does to your data. \n",
    "\n",
    "Now you can check out the other plugin packages to explore how this helps you manage and trace your data while using digital analysis tools!"
   ]
  }
 ],
 "metadata": {
  "kernelspec": {
   "display_name": "Python 3 (ipykernel)",
   "language": "python",
   "name": "python3"
  },
  "language_info": {
   "codemirror_mode": {
    "name": "ipython",
    "version": 3
   },
   "file_extension": ".py",
   "mimetype": "text/x-python",
   "name": "python",
   "nbconvert_exporter": "python",
   "pygments_lexer": "ipython3",
   "version": "3.10.0"
  }
 },
 "nbformat": 4,
 "nbformat_minor": 4
}
