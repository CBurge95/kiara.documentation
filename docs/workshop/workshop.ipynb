{
 "cells": [
  {
   "cell_type": "code",
   "execution_count": null,
   "metadata": {
    "collapsed": true
   },
   "outputs": [],
   "source": [
    "try:\n",
    "    from kiara_plugin.jupyter import ensure_kiara_plugins\n",
    "except:\n",
    "    import sys\n",
    "    print(\"Installing 'kiara_plugin.jupyter'...\")\n",
    "    !{sys.executable} -m pip install -q kiara_plugin.jupyter\n",
    "    from kiara_plugin.jupyter import ensure_kiara_plugins\n",
    "\n",
    "ensure_kiara_plugins()\n"
   ]
  }
 ],
 "metadata": {
  "kernelspec": {
   "display_name": "Python 3",
   "language": "python",
   "name": "python3"
  },
  "language_info": {
   "codemirror_mode": {
    "name": "ipython",
    "version": 2
   },
   "file_extension": ".py",
   "mimetype": "text/x-python",
   "name": "python",
   "nbconvert_exporter": "python",
   "pygments_lexer": "ipython2",
   "version": "2.7.6"
  }
 },
 "nbformat": 4,
 "nbformat_minor": 0
}
