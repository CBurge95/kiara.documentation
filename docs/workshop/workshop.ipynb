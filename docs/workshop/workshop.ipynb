{
 "cells": [
  {
   "cell_type": "markdown",
   "metadata": {},
   "source": [
    "## Requirements\n",
    "\n",
    "As a first step, we check if *kiara* and its plugins are installed, and install them should that not be the case.\n",
    "\n",
    "You can just always copy and paste the cell below into your notebook."
   ]
  },
  {
   "cell_type": "code",
   "execution_count": 1,
   "metadata": {
    "collapsed": false,
    "jupyter": {
     "outputs_hidden": false
    }
   },
   "outputs": [
    {
     "data": {
      "text/html": [
       "<pre style=\"white-space:pre;overflow-x:auto;line-height:normal;font-family:Menlo,'DejaVu Sans Mono',consolas,'Courier New',monospace\"><span style=\"color: #008000; text-decoration-color: #008000\">⠧</span> Installing kiara plugins...\n",
       "<span style=\"color: #008000; text-decoration-color: #008000\">⠧</span> Installing kiara plugins...</pre>\n"
      ],
      "text/plain": [
       "\r",
       "\u001b[2K\u001b[32m⠧\u001b[0m Installing kiara plugins...\n",
       "\u001b[32m⠧\u001b[0m Installing kiara plugins..."
      ]
     },
     "metadata": {},
     "output_type": "display_data"
    },
    {
     "data": {
      "text/html": [
       "<pre style=\"white-space:pre;overflow-x:auto;line-height:normal;font-family:Menlo,'DejaVu Sans Mono',consolas,'Courier New',monospace\">\n",
       "</pre>\n"
      ],
      "text/plain": [
       "\n",
       "\u001b[?25h\r",
       "\u001b[1A\u001b[2K"
      ]
     },
     "metadata": {},
     "output_type": "display_data"
    },
    {
     "data": {
      "text/html": [
       "<pre style=\"white-space:pre;overflow-x:auto;line-height:normal;font-family:Menlo,'DejaVu Sans Mono',consolas,'Courier New',monospace\">╭─ kiara plugin(s) installed ─────────────────────────────────────────────────────────────────────────────────────╮\n",
       "│ Installed packages:                                                                                             │\n",
       "│                                                                                                                 │\n",
       "│ <span style=\"color: #808000; text-decoration-color: #808000; font-weight: bold\"> • </span>kiara-plugin.core-types                                                                                      │\n",
       "│ <span style=\"color: #808000; text-decoration-color: #808000; font-weight: bold\"> • </span>kiara-plugin.tabular                                                                                         │\n",
       "│ <span style=\"color: #808000; text-decoration-color: #808000; font-weight: bold\"> • </span>kiara-plugin.onboarding                                                                                      │\n",
       "│ <span style=\"color: #808000; text-decoration-color: #808000; font-weight: bold\"> • </span>kiara-plugin.network-analysis                                                                                │\n",
       "│ <span style=\"color: #808000; text-decoration-color: #808000; font-weight: bold\"> • </span>kiara-plugin.language-processing                                                                             │\n",
       "│ <span style=\"color: #808000; text-decoration-color: #808000; font-weight: bold\"> • </span>kiara-plugin.html                                                                                            │\n",
       "│ <span style=\"color: #808000; text-decoration-color: #808000; font-weight: bold\"> • </span>kiara-plugin.streamlit                                                                                       │\n",
       "│                                                                                                                 │\n",
       "│ Depending on the state of your current environment, you might see error messages below, in which case you'll    │\n",
       "│ have to restart the jupyter kernel manually.                                                                    │\n",
       "╰─────────────────────────────────────────────────────────────────────────────────────────────────────────────────╯\n",
       "</pre>\n"
      ],
      "text/plain": [
       "╭─ kiara plugin(s) installed ─────────────────────────────────────────────────────────────────────────────────────╮\n",
       "│ Installed packages:                                                                                             │\n",
       "│                                                                                                                 │\n",
       "│ \u001b[1;33m • \u001b[0mkiara-plugin.core-types                                                                                      │\n",
       "│ \u001b[1;33m • \u001b[0mkiara-plugin.tabular                                                                                         │\n",
       "│ \u001b[1;33m • \u001b[0mkiara-plugin.onboarding                                                                                      │\n",
       "│ \u001b[1;33m • \u001b[0mkiara-plugin.network-analysis                                                                                │\n",
       "│ \u001b[1;33m • \u001b[0mkiara-plugin.language-processing                                                                             │\n",
       "│ \u001b[1;33m • \u001b[0mkiara-plugin.html                                                                                            │\n",
       "│ \u001b[1;33m • \u001b[0mkiara-plugin.streamlit                                                                                       │\n",
       "│                                                                                                                 │\n",
       "│ Depending on the state of your current environment, you might see error messages below, in which case you'll    │\n",
       "│ have to restart the jupyter kernel manually.                                                                    │\n",
       "╰─────────────────────────────────────────────────────────────────────────────────────────────────────────────────╯\n"
      ]
     },
     "execution_count": 1,
     "metadata": {},
     "output_type": "execute_result"
    }
   ],
   "source": [
    "try:\n",
    "    from kiara_plugin.jupyter import ensure_kiara_plugins\n",
    "except:\n",
    "    import sys\n",
    "    print(\"Installing 'kiara_plugin.jupyter'...\")\n",
    "    !{sys.executable} -m pip install -q kiara_plugin.jupyter\n",
    "    from kiara_plugin.jupyter import ensure_kiara_plugins\n",
    "\n",
    "ensure_kiara_plugins()\n"
   ]
  },
  {
   "cell_type": "markdown",
   "metadata": {},
   "source": [
    "## Connect to *kiara*\n",
    "\n",
    "To interact with *kiara*, we need to create an instance of a `KiaraAPI` object. This object will allow us to control the *kiara* backend, as well as get information about the context we work in (what operations are available, what data was saved, etc.)"
   ]
  },
  {
   "cell_type": "code",
   "execution_count": 2,
   "metadata": {
    "collapsed": false,
    "jupyter": {
     "outputs_hidden": false
    }
   },
   "outputs": [
    {
     "data": {
      "text/plain": [
       "['create.database.from.file',\n",
       " 'create.database.from.file_bundle',\n",
       " 'create.database.from.table',\n",
       " 'create.network_data.from.files',\n",
       " 'create.network_data.from.tables',\n",
       " 'create.stopwords_list',\n",
       " 'create.table.from.file',\n",
       " 'create.table.from.file_bundle',\n",
       " 'date.check_range',\n",
       " 'date.extract_from_string',\n",
       " 'download.file',\n",
       " 'download.file_bundle',\n",
       " 'export.file.as.file',\n",
       " 'export.network_data.as.csv_files',\n",
       " 'export.network_data.as.graphml_file',\n",
       " 'export.network_data.as.sql_dump',\n",
       " 'export.network_data.as.sqlite_db',\n",
       " 'export.table.as.csv_file',\n",
       " 'extract.date_array.from.table',\n",
       " 'file_bundle.pick.file',\n",
       " 'file_bundle.pick.sub_folder',\n",
       " 'generate.LDA.for.tokens_array',\n",
       " 'import.database.from.local_file_path',\n",
       " 'import.file',\n",
       " 'import.file_bundle',\n",
       " 'import.local.file',\n",
       " 'import.local.file_bundle',\n",
       " 'import.network_data.from.local_file_paths',\n",
       " 'import.table.from.local_file_path',\n",
       " 'import.table.from.local_folder_path',\n",
       " 'jupyter.example',\n",
       " 'list.contains',\n",
       " 'logic.and',\n",
       " 'logic.nand',\n",
       " 'logic.nor',\n",
       " 'logic.not',\n",
       " 'logic.or',\n",
       " 'logic.xor',\n",
       " 'onboard.zenodo_record',\n",
       " 'parse.date_array',\n",
       " 'preprocess.tokens_array',\n",
       " 'query.database',\n",
       " 'query.table',\n",
       " 'remove_stopwords.from.tokens_array',\n",
       " 'render.markdown.to.html',\n",
       " 'string_filter.tokens',\n",
       " 'table.pick.column',\n",
       " 'table_filter.drop_columns',\n",
       " 'table_filter.select_columns',\n",
       " 'table_filter.select_rows',\n",
       " 'tokenize.string',\n",
       " 'tokenize.texts_array']"
      ]
     },
     "execution_count": 2,
     "metadata": {},
     "output_type": "execute_result"
    }
   ],
   "source": [
    "from kiara import KiaraAPI\n",
    "\n",
    "api = KiaraAPI.instance()\n",
    "api.list_operation_ids()\n"
   ]
  }
 ],
 "metadata": {
  "kernelspec": {
   "display_name": "Python 3 (ipykernel)",
   "language": "python",
   "name": "python3"
  },
  "language_info": {
   "codemirror_mode": {
    "name": "ipython",
    "version": 3
   },
   "file_extension": ".py",
   "mimetype": "text/x-python",
   "name": "python",
   "nbconvert_exporter": "python",
   "pygments_lexer": "ipython3",
   "version": "3.10.0"
  }
 },
 "nbformat": 4,
 "nbformat_minor": 4
}
