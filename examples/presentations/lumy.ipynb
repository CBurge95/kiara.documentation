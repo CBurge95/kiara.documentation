{
 "cells": [
  {
   "cell_type": "code",
   "execution_count": 1,
   "id": "2d32cae0-ae84-4f31-8d7a-3675b0442465",
   "metadata": {
    "slideshow": {
     "slide_type": "skip"
    },
    "tags": []
   },
   "outputs": [
    {
     "name": "stdout",
     "output_type": "stream",
     "text": [
      "env: CONSOLE_WIDTH=100\n"
     ]
    }
   ],
   "source": [
    "# housekeeping, imports, etc.\n",
    "%load_ext autoreload\n",
    "%autoreload 2\n",
    "\n",
    "%env CONSOLE_WIDTH=100\n",
    "\n",
    "from typing import Union, Dict, Any\n",
    "from kiara import KiaraAPI, ValueMap, KiaraModuleConfig, ValueMapSchema\n",
    "from kiara.utils.jupyter import graph_widget\n",
    "from kiara.context.config import KIARA_SETTINGS\n",
    "from pydantic import Field\n",
    "\n",
    "# make code output easier to read in the jupyter context\n",
    "KIARA_SETTINGS.syntax_highlight_background = \"black\"\n",
    "\n",
    "# create the kiara api instance\n",
    "api = KiaraAPI.instance(\"lumy\")"
   ]
  },
  {
   "cell_type": "markdown",
   "id": "06f4d375-2f99-4779-b3d9-47edb823c6f9",
   "metadata": {
    "slideshow": {
     "slide_type": "slide"
    },
    "tags": []
   },
   "source": [
    "# The problem"
   ]
  },
  {
   "cell_type": "markdown",
   "id": "992bc87d-2553-4a3f-8dbc-77e032ee5116",
   "metadata": {
    "slideshow": {
     "slide_type": "fragment"
    },
    "tags": []
   },
   "source": [
    "- \"like Jupyter notebooks, but for people who can't code\"\n",
    "- \"virtual research environment\""
   ]
  },
  {
   "cell_type": "markdown",
   "id": "26357b79-61fb-47c0-939c-d4ed92c8b5cb",
   "metadata": {
    "slideshow": {
     "slide_type": "slide"
    },
    "tags": []
   },
   "source": [
    "## Data \"orchestration\" vs. \"exploration\""
   ]
  },
  {
   "cell_type": "markdown",
   "id": "ed174a73-5d7a-43d8-9e14-9af0189025f3",
   "metadata": {
    "slideshow": {
     "slide_type": "fragment"
    },
    "tags": []
   },
   "source": [
    "### Orchestration\n",
    "- static 'pipelines'\n",
    "- known input & output types\n",
    "- products: Apache Airflow, Kafka, Dagster, prefect"
   ]
  },
  {
   "cell_type": "markdown",
   "id": "2bab7a74-015a-43ab-9745-aa16ce217f39",
   "metadata": {
    "slideshow": {
     "slide_type": "fragment"
    },
    "tags": []
   },
   "source": [
    "### Exploration\n",
    "- dynamic\n",
    "- (mostly) known inputs & input types (but weakly specified)\n",
    "- (mostly) unknown outputs and output types\n",
    "- products: Jupyter, Rstudio, ..."
   ]
  },
  {
   "cell_type": "markdown",
   "id": "5d1f97e9-7c2a-46df-83a1-46ec0716fe6f",
   "metadata": {
    "slideshow": {
     "slide_type": "slide"
    },
    "tags": []
   },
   "source": [
    "# Solution\n",
    "\n",
    "## if 'orchestration'\n",
    "- focus on processing modules and pipelines\n",
    "- pre-assembled pipelines, built by workflow developers\n",
    "\n",
    "## if 'exploration'\n",
    "- data-centric\n",
    "- dynamically build pipelines, built by end-users"
   ]
  },
  {
   "cell_type": "markdown",
   "id": "88812850-65a5-418a-bc11-e2a2a4e22831",
   "metadata": {
    "slideshow": {
     "slide_type": "fragment"
    },
    "tags": []
   },
   "source": [
    "-> mutually exclusive?"
   ]
  },
  {
   "cell_type": "markdown",
   "id": "188e5b2c-ef5e-46bd-bfe4-362a15741041",
   "metadata": {
    "slideshow": {
     "slide_type": "slide"
    },
    "tags": []
   },
   "source": [
    "# Modules / Operations / Pipelines / Workflows"
   ]
  },
  {
   "cell_type": "markdown",
   "id": "504ca056-e435-4268-8d02-ace021f4a260",
   "metadata": {
    "slideshow": {
     "slide_type": "fragment"
    },
    "tags": []
   },
   "source": [
    "## Module\n",
    "- Python class (subclass of the `KiaraModule` base class)\n",
    "- designed to be re-usable\n",
    "- configurable\n",
    "- implement 3 methods: `create_inputs_schema`, `create_outputs_schema`, `process`\n",
    "- (optionally) add documentation & other metadata (author, tags, etc.)\n",
    "- core modules bundled with *kiara* and 'official' plugin packages"
   ]
  },
  {
   "cell_type": "markdown",
   "id": "8fd0c2e6",
   "metadata": {
    "slideshow": {
     "slide_type": "slide"
    },
    "tags": []
   },
   "source": [
    "```python\n",
    "class CutColumnModuleConfig(KiaraModuleConfig):\n",
    "\n",
    "    column_name: Union[str, None] = Field(\n",
    "        description=\"A hardcoded column name to cut.\",\n",
    "        default=None\n",
    "    ) \n",
    "```"
   ]
  },
  {
   "cell_type": "markdown",
   "id": "e86f5243",
   "metadata": {
    "tags": []
   },
   "source": [
    "```python\n",
    "class CutColumnModule(KiaraModule):\n",
    "    \"\"\"Cut off one column from a table, returning an array.\"\"\"\n",
    "\n",
    "    _module_type_name = \"table.cut_column\"\n",
    "    _config_cls = CutColumnModuleConfig\n",
    "```"
   ]
  },
  {
   "cell_type": "markdown",
   "id": "8c7c0849",
   "metadata": {
    "slideshow": {
     "slide_type": "slide"
    },
    "tags": []
   },
   "source": [
    "```python\n",
    "    def create_inputs_schema(\n",
    "        self,\n",
    "    ) -> ValueMapSchema:\n",
    "\n",
    "        inputs: Dict[str, Any] = {\n",
    "            \"table\": {\"type\": \"table\", \"doc\": \"A table.\"}\n",
    "        }\n",
    "        column_name = self.get_config_value(\"column_name\")\n",
    "        if not column_name:\n",
    "            inputs[\"column_name\"] = {\"type\": \"string\", \"doc\": \"The name of the column to extract.\"}\n",
    "\n",
    "        return inputs\n",
    "```"
   ]
  },
  {
   "cell_type": "markdown",
   "id": "55817b83-aed5-4478-b2fc-12d7cd8960ca",
   "metadata": {},
   "source": [
    "```python\n",
    "   def create_outputs_schema(self) -> ValueMapSchema:\n",
    "\n",
    "        outputs: Mapping[str, Any] = {\"array\": {\"type\": \"array\", \"doc\": \"The column\"}}\n",
    "        return outputs\n",
    "```"
   ]
  },
  {
   "cell_type": "markdown",
   "id": "3b182943",
   "metadata": {
    "slideshow": {
     "slide_type": "slide"
    },
    "tags": []
   },
   "source": [
    "```python\n",
    "   def process(self, inputs: ValueMap, outputs: ValueMap) -> None:\n",
    "\n",
    "        import pyarrow as pa\n",
    "        column_name: Union[str, None] = self.get_config_value(\"column_name\")\n",
    "        if not column_name:\n",
    "            column_name = inputs.get_value_data(\"column_name\")\n",
    "\n",
    "        if not column_name:\n",
    "            raise KiaraProcessingException(\"Could not cut column from table: column_name not provided or empty string.\")\n",
    "\n",
    "        table_value: Value = inputs.get_value_obj(\"table\")\n",
    "        table_metadata: KiaraTableMetadata = table_value.get_property_data(\n",
    "            \"metadata.table\"\n",
    "        )\n",
    "        available = table_metadata.table.column_names\n",
    "\n",
    "        if column_name not in available:\n",
    "            raise KiaraProcessingException(\n",
    "                f\"Invalid column name '{column_name}'. Available column names: {', '.join(available)}\"\n",
    "            )\n",
    "\n",
    "        table: pa.Table = table_value.data.arrow_table\n",
    "        column = table.column(column_name)\n",
    "\n",
    "        outputs.set_value(\"array\", column)\n",
    "```"
   ]
  },
  {
   "cell_type": "code",
   "execution_count": 2,
   "id": "c77d69fa",
   "metadata": {
    "collapsed": false,
    "jupyter": {
     "outputs_hidden": false
    },
    "slideshow": {
     "slide_type": "slide"
    },
    "tags": []
   },
   "outputs": [
    {
     "data": {
      "text/html": [
       "<pre style=\"white-space:pre;overflow-x:auto;line-height:normal;font-family:Menlo,'DejaVu Sans Mono',consolas,'Courier New',monospace\">                                                                                                    \n",
       " <span style=\"font-style: italic\">Documentation         </span>                                                                             \n",
       " <span style=\"font-style: italic\">                      </span>   Cut off one column from a table, returning an array.                      \n",
       " <span style=\"font-style: italic\">                      </span>                                                                             \n",
       " <span style=\"font-style: italic\">Author(s)             </span>                                                                             \n",
       " <span style=\"font-style: italic\">                      </span>   Markus Binsteiner  <span style=\"font-style: italic\"> markus@frkl.io </span>                                       \n",
       " <span style=\"font-style: italic\">                      </span>                                                                             \n",
       " <span style=\"font-style: italic\">Context               </span>                                                                             \n",
       " <span style=\"font-style: italic\">                      </span>  <span style=\"font-style: italic\"> Tags       </span>  tabular                                                      \n",
       " <span style=\"font-style: italic\">                      </span>  <span style=\"font-style: italic\"> Labels     </span>  <span style=\"font-style: italic\">package</span>: kiara_plugin.tabular                                \n",
       " <span style=\"font-style: italic\">                      </span>  <span style=\"font-style: italic\"> References </span>  <span style=\"font-style: italic\">source_repo</span>:                                                 \n",
       " <span style=\"font-style: italic\">                      </span>  <span style=\"font-style: italic\">            </span>  <a href=\"https://github.com/DHARPA-Project/kiara_plugin.tabular\" target=\"_blank\">https://github.com/DHARPA-Project/kiara_plugin.tabular</a>       \n",
       " <span style=\"font-style: italic\">                      </span>  <span style=\"font-style: italic\">            </span>  <span style=\"font-style: italic\">documentation</span>:                                               \n",
       " <span style=\"font-style: italic\">                      </span>  <span style=\"font-style: italic\">            </span>  <a href=\"https://DHARPA-Project.github.io/kiara_plugin.tabular/\" target=\"_blank\">https://DHARPA-Project.github.io/kiara_plugin.tabular/</a>       \n",
       " <span style=\"font-style: italic\">                      </span>                                                                             \n",
       " <span style=\"font-style: italic\">Module config schema  </span>                                                                             \n",
       " <span style=\"font-style: italic\">                      </span>  <span style=\"font-weight: bold\"> Field       </span> <span style=\"font-weight: bold\"> Type   </span> <span style=\"font-weight: bold\"> Description                 </span> <span style=\"font-weight: bold\"> Required </span> <span style=\"font-weight: bold\"> Default </span>  \n",
       " <span style=\"font-style: italic\">                      </span>  ─────────────────────────────────────────────────────────────────────────  \n",
       " <span style=\"font-style: italic\">                      </span>   column_name   string   A hardcoded column name to    no                   \n",
       " <span style=\"font-style: italic\">                      </span>                          cut.                                               \n",
       " <span style=\"font-style: italic\">                      </span>                                                                             \n",
       " <span style=\"font-style: italic\">                      </span>   constants     object   Value constants for this      no                   \n",
       " <span style=\"font-style: italic\">                      </span>                          module.                                            \n",
       " <span style=\"font-style: italic\">                      </span>                                                                             \n",
       " <span style=\"font-style: italic\">                      </span>   defaults      object   Value defaults for this       no                   \n",
       " <span style=\"font-style: italic\">                      </span>                          module.                                            \n",
       " <span style=\"font-style: italic\">                      </span>                                                                             \n",
       " <span style=\"font-style: italic\">Python class          </span>                                                                             \n",
       " <span style=\"font-style: italic\">                      </span>  <span style=\"font-style: italic\"> python_class_name  </span>  CutColumnModule                                      \n",
       " <span style=\"font-style: italic\">                      </span>  <span style=\"font-style: italic\"> python_module_name </span>  kiara_plugin.tabular.modules.table                   \n",
       " <span style=\"font-style: italic\">                      </span>  <span style=\"font-style: italic\"> full_name          </span>  kiara_plugin.tabular.modules.table.CutColumnModule   \n",
       " <span style=\"font-style: italic\">                      </span>                                                                             \n",
       " <span style=\"font-style: italic\">Processing source code</span>  ─────────────────────────────────────────────────────────────────────────  \n",
       " <span style=\"font-style: italic\">                      </span>   <span style=\"color: #66d9ef; text-decoration-color: #66d9ef; background-color: #000000\">def</span><span style=\"color: #f8f8f2; text-decoration-color: #f8f8f2; background-color: #000000\"> </span><span style=\"color: #a6e22e; text-decoration-color: #a6e22e; background-color: #000000\">process</span><span style=\"color: #f8f8f2; text-decoration-color: #f8f8f2; background-color: #000000\">(self, inputs: ValueMap, outputs: ValueMap) </span><span style=\"color: #f92672; text-decoration-color: #f92672; background-color: #000000\">-&gt;</span><span style=\"color: #f8f8f2; text-decoration-color: #f8f8f2; background-color: #000000\"> </span><span style=\"color: #66d9ef; text-decoration-color: #66d9ef; background-color: #000000\">None</span><span style=\"color: #f8f8f2; text-decoration-color: #f8f8f2; background-color: #000000\">:</span><span style=\"background-color: #000000\">        </span>   \n",
       " <span style=\"font-style: italic\">                      </span>   <span style=\"background-color: #000000\">                                                                       </span>   \n",
       " <span style=\"font-style: italic\">                      </span>   <span style=\"color: #f8f8f2; text-decoration-color: #f8f8f2; background-color: #000000\">    </span><span style=\"color: #f92672; text-decoration-color: #f92672; background-color: #000000\">import</span><span style=\"color: #f8f8f2; text-decoration-color: #f8f8f2; background-color: #000000\"> pyarrow </span><span style=\"color: #66d9ef; text-decoration-color: #66d9ef; background-color: #000000\">as</span><span style=\"color: #f8f8f2; text-decoration-color: #f8f8f2; background-color: #000000\"> pa</span><span style=\"background-color: #000000\">                                               </span>   \n",
       " <span style=\"font-style: italic\">                      </span>   <span style=\"color: #f8f8f2; text-decoration-color: #f8f8f2; background-color: #000000\">    column_name: Union[str, </span><span style=\"color: #66d9ef; text-decoration-color: #66d9ef; background-color: #000000\">None</span><span style=\"color: #f8f8f2; text-decoration-color: #f8f8f2; background-color: #000000\">] </span><span style=\"color: #f92672; text-decoration-color: #f92672; background-color: #000000\">=</span><span style=\"color: #f8f8f2; text-decoration-color: #f8f8f2; background-color: #000000\"> self</span><span style=\"color: #f92672; text-decoration-color: #f92672; background-color: #000000\">.</span><span style=\"color: #f8f8f2; text-decoration-color: #f8f8f2; background-color: #000000\">get_config_value(</span><span style=\"color: #e6db74; text-decoration-color: #e6db74; background-color: #000000\">\"column_name…</span>   \n",
       " <span style=\"font-style: italic\">                      </span>   <span style=\"color: #f8f8f2; text-decoration-color: #f8f8f2; background-color: #000000\">    </span><span style=\"color: #66d9ef; text-decoration-color: #66d9ef; background-color: #000000\">if</span><span style=\"color: #f8f8f2; text-decoration-color: #f8f8f2; background-color: #000000\"> </span><span style=\"color: #f92672; text-decoration-color: #f92672; background-color: #000000\">not</span><span style=\"color: #f8f8f2; text-decoration-color: #f8f8f2; background-color: #000000\"> column_name:</span><span style=\"background-color: #000000\">                                                </span>   \n",
       " <span style=\"font-style: italic\">                      </span>   <span style=\"color: #f8f8f2; text-decoration-color: #f8f8f2; background-color: #000000\">        column_name </span><span style=\"color: #f92672; text-decoration-color: #f92672; background-color: #000000\">=</span><span style=\"color: #f8f8f2; text-decoration-color: #f8f8f2; background-color: #000000\"> inputs</span><span style=\"color: #f92672; text-decoration-color: #f92672; background-color: #000000\">.</span><span style=\"color: #f8f8f2; text-decoration-color: #f8f8f2; background-color: #000000\">get_value_data(</span><span style=\"color: #e6db74; text-decoration-color: #e6db74; background-color: #000000\">\"column_name\"</span><span style=\"color: #f8f8f2; text-decoration-color: #f8f8f2; background-color: #000000\">)</span><span style=\"background-color: #000000\">             </span>   \n",
       " <span style=\"font-style: italic\">                      </span>   <span style=\"background-color: #000000\">                                                                       </span>   \n",
       " <span style=\"font-style: italic\">                      </span>   <span style=\"color: #f8f8f2; text-decoration-color: #f8f8f2; background-color: #000000\">    </span><span style=\"color: #66d9ef; text-decoration-color: #66d9ef; background-color: #000000\">if</span><span style=\"color: #f8f8f2; text-decoration-color: #f8f8f2; background-color: #000000\"> </span><span style=\"color: #f92672; text-decoration-color: #f92672; background-color: #000000\">not</span><span style=\"color: #f8f8f2; text-decoration-color: #f8f8f2; background-color: #000000\"> column_name:</span><span style=\"background-color: #000000\">                                                </span>   \n",
       " <span style=\"font-style: italic\">                      </span>   <span style=\"color: #f8f8f2; text-decoration-color: #f8f8f2; background-color: #000000\">        </span><span style=\"color: #66d9ef; text-decoration-color: #66d9ef; background-color: #000000\">raise</span><span style=\"color: #f8f8f2; text-decoration-color: #f8f8f2; background-color: #000000\"> KiaraProcessingException(</span><span style=\"color: #e6db74; text-decoration-color: #e6db74; background-color: #000000\">\"Could not cut column from tabl…</span>   \n",
       " <span style=\"font-style: italic\">                      </span>   <span style=\"background-color: #000000\">                                                                       </span>   \n",
       " <span style=\"font-style: italic\">                      </span>   <span style=\"color: #f8f8f2; text-decoration-color: #f8f8f2; background-color: #000000\">    table_value: Value </span><span style=\"color: #f92672; text-decoration-color: #f92672; background-color: #000000\">=</span><span style=\"color: #f8f8f2; text-decoration-color: #f8f8f2; background-color: #000000\"> inputs</span><span style=\"color: #f92672; text-decoration-color: #f92672; background-color: #000000\">.</span><span style=\"color: #f8f8f2; text-decoration-color: #f8f8f2; background-color: #000000\">get_value_obj(</span><span style=\"color: #e6db74; text-decoration-color: #e6db74; background-color: #000000\">\"table\"</span><span style=\"color: #f8f8f2; text-decoration-color: #f8f8f2; background-color: #000000\">)</span><span style=\"background-color: #000000\">                 </span>   \n",
       " <span style=\"font-style: italic\">                      </span>   <span style=\"color: #f8f8f2; text-decoration-color: #f8f8f2; background-color: #000000\">    table_metadata: KiaraTableMetadata </span><span style=\"color: #f92672; text-decoration-color: #f92672; background-color: #000000\">=</span><span style=\"color: #f8f8f2; text-decoration-color: #f8f8f2; background-color: #000000\"> table_value</span><span style=\"color: #f92672; text-decoration-color: #f92672; background-color: #000000\">.</span><span style=\"color: #f8f8f2; text-decoration-color: #f8f8f2; background-color: #000000\">get_property_data(</span>   \n",
       " <span style=\"font-style: italic\">                      </span>   <span style=\"color: #f8f8f2; text-decoration-color: #f8f8f2; background-color: #000000\">        </span><span style=\"color: #e6db74; text-decoration-color: #e6db74; background-color: #000000\">\"metadata.table\"</span><span style=\"background-color: #000000\">                                               </span>   \n",
       " <span style=\"font-style: italic\">                      </span>   <span style=\"color: #f8f8f2; text-decoration-color: #f8f8f2; background-color: #000000\">    )</span><span style=\"background-color: #000000\">                                                                  </span>   \n",
       " <span style=\"font-style: italic\">                      </span>   <span style=\"color: #f8f8f2; text-decoration-color: #f8f8f2; background-color: #000000\">    available </span><span style=\"color: #f92672; text-decoration-color: #f92672; background-color: #000000\">=</span><span style=\"color: #f8f8f2; text-decoration-color: #f8f8f2; background-color: #000000\"> table_metadata</span><span style=\"color: #f92672; text-decoration-color: #f92672; background-color: #000000\">.</span><span style=\"color: #f8f8f2; text-decoration-color: #f8f8f2; background-color: #000000\">table</span><span style=\"color: #f92672; text-decoration-color: #f92672; background-color: #000000\">.</span><span style=\"color: #f8f8f2; text-decoration-color: #f8f8f2; background-color: #000000\">column_names</span><span style=\"background-color: #000000\">                      </span>   \n",
       " <span style=\"font-style: italic\">                      </span>   <span style=\"background-color: #000000\">                                                                       </span>   \n",
       " <span style=\"font-style: italic\">                      </span>   <span style=\"color: #f8f8f2; text-decoration-color: #f8f8f2; background-color: #000000\">    </span><span style=\"color: #66d9ef; text-decoration-color: #66d9ef; background-color: #000000\">if</span><span style=\"color: #f8f8f2; text-decoration-color: #f8f8f2; background-color: #000000\"> column_name </span><span style=\"color: #f92672; text-decoration-color: #f92672; background-color: #000000\">not</span><span style=\"color: #f8f8f2; text-decoration-color: #f8f8f2; background-color: #000000\"> </span><span style=\"color: #f92672; text-decoration-color: #f92672; background-color: #000000\">in</span><span style=\"color: #f8f8f2; text-decoration-color: #f8f8f2; background-color: #000000\"> available:</span><span style=\"background-color: #000000\">                                   </span>   \n",
       " <span style=\"font-style: italic\">                      </span>   <span style=\"color: #f8f8f2; text-decoration-color: #f8f8f2; background-color: #000000\">        </span><span style=\"color: #66d9ef; text-decoration-color: #66d9ef; background-color: #000000\">raise</span><span style=\"color: #f8f8f2; text-decoration-color: #f8f8f2; background-color: #000000\"> KiaraProcessingException(</span><span style=\"background-color: #000000\">                                </span>   \n",
       " <span style=\"font-style: italic\">                      </span>   <span style=\"color: #f8f8f2; text-decoration-color: #f8f8f2; background-color: #000000\">            </span><span style=\"color: #e6db74; text-decoration-color: #e6db74; background-color: #000000\">f\"Invalid column name '{</span><span style=\"color: #f8f8f2; text-decoration-color: #f8f8f2; background-color: #000000\">column_name</span><span style=\"color: #e6db74; text-decoration-color: #e6db74; background-color: #000000\">}'. Available column na…</span>   \n",
       " <span style=\"font-style: italic\">                      </span>   <span style=\"color: #f8f8f2; text-decoration-color: #f8f8f2; background-color: #000000\">        )</span><span style=\"background-color: #000000\">                                                              </span>   \n",
       " <span style=\"font-style: italic\">                      </span>   <span style=\"background-color: #000000\">                                                                       </span>   \n",
       " <span style=\"font-style: italic\">                      </span>   <span style=\"color: #f8f8f2; text-decoration-color: #f8f8f2; background-color: #000000\">    table: pa</span><span style=\"color: #f92672; text-decoration-color: #f92672; background-color: #000000\">.</span><span style=\"color: #f8f8f2; text-decoration-color: #f8f8f2; background-color: #000000\">Table </span><span style=\"color: #f92672; text-decoration-color: #f92672; background-color: #000000\">=</span><span style=\"color: #f8f8f2; text-decoration-color: #f8f8f2; background-color: #000000\"> table_value</span><span style=\"color: #f92672; text-decoration-color: #f92672; background-color: #000000\">.</span><span style=\"color: #f8f8f2; text-decoration-color: #f8f8f2; background-color: #000000\">data</span><span style=\"color: #f92672; text-decoration-color: #f92672; background-color: #000000\">.</span><span style=\"color: #f8f8f2; text-decoration-color: #f8f8f2; background-color: #000000\">arrow_table</span><span style=\"background-color: #000000\">                     </span>   \n",
       " <span style=\"font-style: italic\">                      </span>   <span style=\"color: #f8f8f2; text-decoration-color: #f8f8f2; background-color: #000000\">    column </span><span style=\"color: #f92672; text-decoration-color: #f92672; background-color: #000000\">=</span><span style=\"color: #f8f8f2; text-decoration-color: #f8f8f2; background-color: #000000\"> table</span><span style=\"color: #f92672; text-decoration-color: #f92672; background-color: #000000\">.</span><span style=\"color: #f8f8f2; text-decoration-color: #f8f8f2; background-color: #000000\">column(column_name)</span><span style=\"background-color: #000000\">                                 </span>   \n",
       " <span style=\"font-style: italic\">                      </span>   <span style=\"background-color: #000000\">                                                                       </span>   \n",
       " <span style=\"font-style: italic\">                      </span>   <span style=\"color: #f8f8f2; text-decoration-color: #f8f8f2; background-color: #000000\">    outputs</span><span style=\"color: #f92672; text-decoration-color: #f92672; background-color: #000000\">.</span><span style=\"color: #f8f8f2; text-decoration-color: #f8f8f2; background-color: #000000\">set_value(</span><span style=\"color: #e6db74; text-decoration-color: #e6db74; background-color: #000000\">\"array\"</span><span style=\"color: #f8f8f2; text-decoration-color: #f8f8f2; background-color: #000000\">, column)</span><span style=\"background-color: #000000\">                                 </span>   \n",
       " <span style=\"font-style: italic\">                      </span>   <span style=\"background-color: #000000\">                                                                       </span>   \n",
       " <span style=\"font-style: italic\">                      </span>  ─────────────────────────────────────────────────────────────────────────  \n",
       "                                                                                                    \n",
       "</pre>\n"
      ],
      "text/plain": [
       "                                                                                                    \n",
       " \u001b[3mDocumentation         \u001b[0m                                                                             \n",
       " \u001b[3m                      \u001b[0m   Cut off one column from a table, returning an array.                      \n",
       " \u001b[3m                      \u001b[0m                                                                             \n",
       " \u001b[3mAuthor(s)             \u001b[0m                                                                             \n",
       " \u001b[3m                      \u001b[0m   Markus Binsteiner  \u001b[3m \u001b[0m\u001b[3mmarkus@frkl.io\u001b[0m\u001b[3m \u001b[0m                                       \n",
       " \u001b[3m                      \u001b[0m                                                                             \n",
       " \u001b[3mContext               \u001b[0m                                                                             \n",
       " \u001b[3m                      \u001b[0m  \u001b[3m \u001b[0m\u001b[3mTags      \u001b[0m\u001b[3m \u001b[0m  tabular                                                      \n",
       " \u001b[3m                      \u001b[0m  \u001b[3m \u001b[0m\u001b[3mLabels    \u001b[0m\u001b[3m \u001b[0m  \u001b[3mpackage\u001b[0m: kiara_plugin.tabular                                \n",
       " \u001b[3m                      \u001b[0m  \u001b[3m \u001b[0m\u001b[3mReferences\u001b[0m\u001b[3m \u001b[0m  \u001b[3msource_repo\u001b[0m:                                                 \n",
       " \u001b[3m                      \u001b[0m  \u001b[3m            \u001b[0m  \u001b]8;id=405237;https://github.com/DHARPA-Project/kiara_plugin.tabular\u001b\\https://github.com/DHARPA-Project/kiara_plugin.tabular\u001b]8;;\u001b\\       \n",
       " \u001b[3m                      \u001b[0m  \u001b[3m            \u001b[0m  \u001b[3mdocumentation\u001b[0m:                                               \n",
       " \u001b[3m                      \u001b[0m  \u001b[3m            \u001b[0m  \u001b]8;id=746424;https://DHARPA-Project.github.io/kiara_plugin.tabular/\u001b\\https://DHARPA-Project.github.io/kiara_plugin.tabular/\u001b]8;;\u001b\\       \n",
       " \u001b[3m                      \u001b[0m                                                                             \n",
       " \u001b[3mModule config schema  \u001b[0m                                                                             \n",
       " \u001b[3m                      \u001b[0m  \u001b[1m \u001b[0m\u001b[1mField      \u001b[0m\u001b[1m \u001b[0m \u001b[1m \u001b[0m\u001b[1mType  \u001b[0m\u001b[1m \u001b[0m \u001b[1m \u001b[0m\u001b[1mDescription                \u001b[0m\u001b[1m \u001b[0m \u001b[1m \u001b[0m\u001b[1mRequired\u001b[0m\u001b[1m \u001b[0m \u001b[1m \u001b[0m\u001b[1mDefault\u001b[0m\u001b[1m \u001b[0m  \n",
       " \u001b[3m                      \u001b[0m  ─────────────────────────────────────────────────────────────────────────  \n",
       " \u001b[3m                      \u001b[0m   column_name   string   A hardcoded column name to    no                   \n",
       " \u001b[3m                      \u001b[0m                          cut.                                               \n",
       " \u001b[3m                      \u001b[0m                                                                             \n",
       " \u001b[3m                      \u001b[0m   constants     object   Value constants for this      no                   \n",
       " \u001b[3m                      \u001b[0m                          module.                                            \n",
       " \u001b[3m                      \u001b[0m                                                                             \n",
       " \u001b[3m                      \u001b[0m   defaults      object   Value defaults for this       no                   \n",
       " \u001b[3m                      \u001b[0m                          module.                                            \n",
       " \u001b[3m                      \u001b[0m                                                                             \n",
       " \u001b[3mPython class          \u001b[0m                                                                             \n",
       " \u001b[3m                      \u001b[0m  \u001b[3m \u001b[0m\u001b[3mpython_class_name \u001b[0m\u001b[3m \u001b[0m  CutColumnModule                                      \n",
       " \u001b[3m                      \u001b[0m  \u001b[3m \u001b[0m\u001b[3mpython_module_name\u001b[0m\u001b[3m \u001b[0m  kiara_plugin.tabular.modules.table                   \n",
       " \u001b[3m                      \u001b[0m  \u001b[3m \u001b[0m\u001b[3mfull_name         \u001b[0m\u001b[3m \u001b[0m  kiara_plugin.tabular.modules.table.CutColumnModule   \n",
       " \u001b[3m                      \u001b[0m                                                                             \n",
       " \u001b[3mProcessing source code\u001b[0m  ─────────────────────────────────────────────────────────────────────────  \n",
       " \u001b[3m                      \u001b[0m   \u001b[38;2;102;217;239;40mdef\u001b[0m\u001b[38;2;248;248;242;40m \u001b[0m\u001b[38;2;166;226;46;40mprocess\u001b[0m\u001b[38;2;248;248;242;40m(\u001b[0m\u001b[38;2;248;248;242;40mself\u001b[0m\u001b[38;2;248;248;242;40m,\u001b[0m\u001b[38;2;248;248;242;40m \u001b[0m\u001b[38;2;248;248;242;40minputs\u001b[0m\u001b[38;2;248;248;242;40m:\u001b[0m\u001b[38;2;248;248;242;40m \u001b[0m\u001b[38;2;248;248;242;40mValueMap\u001b[0m\u001b[38;2;248;248;242;40m,\u001b[0m\u001b[38;2;248;248;242;40m \u001b[0m\u001b[38;2;248;248;242;40moutputs\u001b[0m\u001b[38;2;248;248;242;40m:\u001b[0m\u001b[38;2;248;248;242;40m \u001b[0m\u001b[38;2;248;248;242;40mValueMap\u001b[0m\u001b[38;2;248;248;242;40m)\u001b[0m\u001b[38;2;248;248;242;40m \u001b[0m\u001b[38;2;249;38;114;40m-\u001b[0m\u001b[38;2;249;38;114;40m>\u001b[0m\u001b[38;2;248;248;242;40m \u001b[0m\u001b[38;2;102;217;239;40mNone\u001b[0m\u001b[38;2;248;248;242;40m:\u001b[0m\u001b[40m        \u001b[0m   \n",
       " \u001b[3m                      \u001b[0m   \u001b[40m                                                                       \u001b[0m   \n",
       " \u001b[3m                      \u001b[0m   \u001b[38;2;248;248;242;40m    \u001b[0m\u001b[38;2;249;38;114;40mimport\u001b[0m\u001b[38;2;248;248;242;40m \u001b[0m\u001b[38;2;248;248;242;40mpyarrow\u001b[0m\u001b[38;2;248;248;242;40m \u001b[0m\u001b[38;2;102;217;239;40mas\u001b[0m\u001b[38;2;248;248;242;40m \u001b[0m\u001b[38;2;248;248;242;40mpa\u001b[0m\u001b[40m                                               \u001b[0m   \n",
       " \u001b[3m                      \u001b[0m   \u001b[38;2;248;248;242;40m    \u001b[0m\u001b[38;2;248;248;242;40mcolumn_name\u001b[0m\u001b[38;2;248;248;242;40m:\u001b[0m\u001b[38;2;248;248;242;40m \u001b[0m\u001b[38;2;248;248;242;40mUnion\u001b[0m\u001b[38;2;248;248;242;40m[\u001b[0m\u001b[38;2;248;248;242;40mstr\u001b[0m\u001b[38;2;248;248;242;40m,\u001b[0m\u001b[38;2;248;248;242;40m \u001b[0m\u001b[38;2;102;217;239;40mNone\u001b[0m\u001b[38;2;248;248;242;40m]\u001b[0m\u001b[38;2;248;248;242;40m \u001b[0m\u001b[38;2;249;38;114;40m=\u001b[0m\u001b[38;2;248;248;242;40m \u001b[0m\u001b[38;2;248;248;242;40mself\u001b[0m\u001b[38;2;249;38;114;40m.\u001b[0m\u001b[38;2;248;248;242;40mget_config_value\u001b[0m\u001b[38;2;248;248;242;40m(\u001b[0m\u001b[38;2;230;219;116;40m\"\u001b[0m\u001b[38;2;230;219;116;40mcolumn_name\u001b[0m\u001b[38;2;230;219;116;40m…\u001b[0m   \n",
       " \u001b[3m                      \u001b[0m   \u001b[38;2;248;248;242;40m    \u001b[0m\u001b[38;2;102;217;239;40mif\u001b[0m\u001b[38;2;248;248;242;40m \u001b[0m\u001b[38;2;249;38;114;40mnot\u001b[0m\u001b[38;2;248;248;242;40m \u001b[0m\u001b[38;2;248;248;242;40mcolumn_name\u001b[0m\u001b[38;2;248;248;242;40m:\u001b[0m\u001b[40m                                                \u001b[0m   \n",
       " \u001b[3m                      \u001b[0m   \u001b[38;2;248;248;242;40m        \u001b[0m\u001b[38;2;248;248;242;40mcolumn_name\u001b[0m\u001b[38;2;248;248;242;40m \u001b[0m\u001b[38;2;249;38;114;40m=\u001b[0m\u001b[38;2;248;248;242;40m \u001b[0m\u001b[38;2;248;248;242;40minputs\u001b[0m\u001b[38;2;249;38;114;40m.\u001b[0m\u001b[38;2;248;248;242;40mget_value_data\u001b[0m\u001b[38;2;248;248;242;40m(\u001b[0m\u001b[38;2;230;219;116;40m\"\u001b[0m\u001b[38;2;230;219;116;40mcolumn_name\u001b[0m\u001b[38;2;230;219;116;40m\"\u001b[0m\u001b[38;2;248;248;242;40m)\u001b[0m\u001b[40m             \u001b[0m   \n",
       " \u001b[3m                      \u001b[0m   \u001b[40m                                                                       \u001b[0m   \n",
       " \u001b[3m                      \u001b[0m   \u001b[38;2;248;248;242;40m    \u001b[0m\u001b[38;2;102;217;239;40mif\u001b[0m\u001b[38;2;248;248;242;40m \u001b[0m\u001b[38;2;249;38;114;40mnot\u001b[0m\u001b[38;2;248;248;242;40m \u001b[0m\u001b[38;2;248;248;242;40mcolumn_name\u001b[0m\u001b[38;2;248;248;242;40m:\u001b[0m\u001b[40m                                                \u001b[0m   \n",
       " \u001b[3m                      \u001b[0m   \u001b[38;2;248;248;242;40m        \u001b[0m\u001b[38;2;102;217;239;40mraise\u001b[0m\u001b[38;2;248;248;242;40m \u001b[0m\u001b[38;2;248;248;242;40mKiaraProcessingException\u001b[0m\u001b[38;2;248;248;242;40m(\u001b[0m\u001b[38;2;230;219;116;40m\"\u001b[0m\u001b[38;2;230;219;116;40mCould not cut column from tabl…\u001b[0m   \n",
       " \u001b[3m                      \u001b[0m   \u001b[40m                                                                       \u001b[0m   \n",
       " \u001b[3m                      \u001b[0m   \u001b[38;2;248;248;242;40m    \u001b[0m\u001b[38;2;248;248;242;40mtable_value\u001b[0m\u001b[38;2;248;248;242;40m:\u001b[0m\u001b[38;2;248;248;242;40m \u001b[0m\u001b[38;2;248;248;242;40mValue\u001b[0m\u001b[38;2;248;248;242;40m \u001b[0m\u001b[38;2;249;38;114;40m=\u001b[0m\u001b[38;2;248;248;242;40m \u001b[0m\u001b[38;2;248;248;242;40minputs\u001b[0m\u001b[38;2;249;38;114;40m.\u001b[0m\u001b[38;2;248;248;242;40mget_value_obj\u001b[0m\u001b[38;2;248;248;242;40m(\u001b[0m\u001b[38;2;230;219;116;40m\"\u001b[0m\u001b[38;2;230;219;116;40mtable\u001b[0m\u001b[38;2;230;219;116;40m\"\u001b[0m\u001b[38;2;248;248;242;40m)\u001b[0m\u001b[40m                 \u001b[0m   \n",
       " \u001b[3m                      \u001b[0m   \u001b[38;2;248;248;242;40m    \u001b[0m\u001b[38;2;248;248;242;40mtable_metadata\u001b[0m\u001b[38;2;248;248;242;40m:\u001b[0m\u001b[38;2;248;248;242;40m \u001b[0m\u001b[38;2;248;248;242;40mKiaraTableMetadata\u001b[0m\u001b[38;2;248;248;242;40m \u001b[0m\u001b[38;2;249;38;114;40m=\u001b[0m\u001b[38;2;248;248;242;40m \u001b[0m\u001b[38;2;248;248;242;40mtable_value\u001b[0m\u001b[38;2;249;38;114;40m.\u001b[0m\u001b[38;2;248;248;242;40mget_property_data\u001b[0m\u001b[38;2;248;248;242;40m(\u001b[0m   \n",
       " \u001b[3m                      \u001b[0m   \u001b[38;2;248;248;242;40m        \u001b[0m\u001b[38;2;230;219;116;40m\"\u001b[0m\u001b[38;2;230;219;116;40mmetadata.table\u001b[0m\u001b[38;2;230;219;116;40m\"\u001b[0m\u001b[40m                                               \u001b[0m   \n",
       " \u001b[3m                      \u001b[0m   \u001b[38;2;248;248;242;40m    \u001b[0m\u001b[38;2;248;248;242;40m)\u001b[0m\u001b[40m                                                                  \u001b[0m   \n",
       " \u001b[3m                      \u001b[0m   \u001b[38;2;248;248;242;40m    \u001b[0m\u001b[38;2;248;248;242;40mavailable\u001b[0m\u001b[38;2;248;248;242;40m \u001b[0m\u001b[38;2;249;38;114;40m=\u001b[0m\u001b[38;2;248;248;242;40m \u001b[0m\u001b[38;2;248;248;242;40mtable_metadata\u001b[0m\u001b[38;2;249;38;114;40m.\u001b[0m\u001b[38;2;248;248;242;40mtable\u001b[0m\u001b[38;2;249;38;114;40m.\u001b[0m\u001b[38;2;248;248;242;40mcolumn_names\u001b[0m\u001b[40m                      \u001b[0m   \n",
       " \u001b[3m                      \u001b[0m   \u001b[40m                                                                       \u001b[0m   \n",
       " \u001b[3m                      \u001b[0m   \u001b[38;2;248;248;242;40m    \u001b[0m\u001b[38;2;102;217;239;40mif\u001b[0m\u001b[38;2;248;248;242;40m \u001b[0m\u001b[38;2;248;248;242;40mcolumn_name\u001b[0m\u001b[38;2;248;248;242;40m \u001b[0m\u001b[38;2;249;38;114;40mnot\u001b[0m\u001b[38;2;248;248;242;40m \u001b[0m\u001b[38;2;249;38;114;40min\u001b[0m\u001b[38;2;248;248;242;40m \u001b[0m\u001b[38;2;248;248;242;40mavailable\u001b[0m\u001b[38;2;248;248;242;40m:\u001b[0m\u001b[40m                                   \u001b[0m   \n",
       " \u001b[3m                      \u001b[0m   \u001b[38;2;248;248;242;40m        \u001b[0m\u001b[38;2;102;217;239;40mraise\u001b[0m\u001b[38;2;248;248;242;40m \u001b[0m\u001b[38;2;248;248;242;40mKiaraProcessingException\u001b[0m\u001b[38;2;248;248;242;40m(\u001b[0m\u001b[40m                                \u001b[0m   \n",
       " \u001b[3m                      \u001b[0m   \u001b[38;2;248;248;242;40m            \u001b[0m\u001b[38;2;230;219;116;40mf\u001b[0m\u001b[38;2;230;219;116;40m\"\u001b[0m\u001b[38;2;230;219;116;40mInvalid column name \u001b[0m\u001b[38;2;230;219;116;40m'\u001b[0m\u001b[38;2;230;219;116;40m{\u001b[0m\u001b[38;2;248;248;242;40mcolumn_name\u001b[0m\u001b[38;2;230;219;116;40m}\u001b[0m\u001b[38;2;230;219;116;40m'\u001b[0m\u001b[38;2;230;219;116;40m. Available column na…\u001b[0m   \n",
       " \u001b[3m                      \u001b[0m   \u001b[38;2;248;248;242;40m        \u001b[0m\u001b[38;2;248;248;242;40m)\u001b[0m\u001b[40m                                                              \u001b[0m   \n",
       " \u001b[3m                      \u001b[0m   \u001b[40m                                                                       \u001b[0m   \n",
       " \u001b[3m                      \u001b[0m   \u001b[38;2;248;248;242;40m    \u001b[0m\u001b[38;2;248;248;242;40mtable\u001b[0m\u001b[38;2;248;248;242;40m:\u001b[0m\u001b[38;2;248;248;242;40m \u001b[0m\u001b[38;2;248;248;242;40mpa\u001b[0m\u001b[38;2;249;38;114;40m.\u001b[0m\u001b[38;2;248;248;242;40mTable\u001b[0m\u001b[38;2;248;248;242;40m \u001b[0m\u001b[38;2;249;38;114;40m=\u001b[0m\u001b[38;2;248;248;242;40m \u001b[0m\u001b[38;2;248;248;242;40mtable_value\u001b[0m\u001b[38;2;249;38;114;40m.\u001b[0m\u001b[38;2;248;248;242;40mdata\u001b[0m\u001b[38;2;249;38;114;40m.\u001b[0m\u001b[38;2;248;248;242;40marrow_table\u001b[0m\u001b[40m                     \u001b[0m   \n",
       " \u001b[3m                      \u001b[0m   \u001b[38;2;248;248;242;40m    \u001b[0m\u001b[38;2;248;248;242;40mcolumn\u001b[0m\u001b[38;2;248;248;242;40m \u001b[0m\u001b[38;2;249;38;114;40m=\u001b[0m\u001b[38;2;248;248;242;40m \u001b[0m\u001b[38;2;248;248;242;40mtable\u001b[0m\u001b[38;2;249;38;114;40m.\u001b[0m\u001b[38;2;248;248;242;40mcolumn\u001b[0m\u001b[38;2;248;248;242;40m(\u001b[0m\u001b[38;2;248;248;242;40mcolumn_name\u001b[0m\u001b[38;2;248;248;242;40m)\u001b[0m\u001b[40m                                 \u001b[0m   \n",
       " \u001b[3m                      \u001b[0m   \u001b[40m                                                                       \u001b[0m   \n",
       " \u001b[3m                      \u001b[0m   \u001b[38;2;248;248;242;40m    \u001b[0m\u001b[38;2;248;248;242;40moutputs\u001b[0m\u001b[38;2;249;38;114;40m.\u001b[0m\u001b[38;2;248;248;242;40mset_value\u001b[0m\u001b[38;2;248;248;242;40m(\u001b[0m\u001b[38;2;230;219;116;40m\"\u001b[0m\u001b[38;2;230;219;116;40marray\u001b[0m\u001b[38;2;230;219;116;40m\"\u001b[0m\u001b[38;2;248;248;242;40m,\u001b[0m\u001b[38;2;248;248;242;40m \u001b[0m\u001b[38;2;248;248;242;40mcolumn\u001b[0m\u001b[38;2;248;248;242;40m)\u001b[0m\u001b[40m                                 \u001b[0m   \n",
       " \u001b[3m                      \u001b[0m   \u001b[40m                                                                       \u001b[0m   \n",
       " \u001b[3m                      \u001b[0m  ─────────────────────────────────────────────────────────────────────────  \n",
       "                                                                                                    \n"
      ]
     },
     "execution_count": 2,
     "metadata": {},
     "output_type": "execute_result"
    }
   ],
   "source": [
    "api.retrieve_module_type_info(\"table.cut_column\")"
   ]
  },
  {
   "cell_type": "markdown",
   "id": "78935e98",
   "metadata": {
    "slideshow": {
     "slide_type": "slide"
    },
    "tags": []
   },
   "source": [
    "## Operation\n",
    "- a conceptual logical unit of work\n",
    "- a (configured) module, in most cases, but can also be a pipeline\n",
    "- well defined (set of) inputs and (set of) outputs\n",
    "- does a single thing: transform (set of) inputs to (set of) outputs\n",
    "- (in most cases) idempotent:\n",
    "  - same module type, module configuration & (set of) inputs -> same set of outputs\n"
   ]
  },
  {
   "cell_type": "code",
   "execution_count": 3,
   "id": "ce89c674-d1ca-42fc-b89b-a251420112a4",
   "metadata": {
    "slideshow": {
     "slide_type": "slide"
    },
    "tags": []
   },
   "outputs": [
    {
     "name": "stdout",
     "output_type": "stream",
     "text": [
      "\n",
      "╭─ Filtered operations ────────────────────────────────────────────────────────────────────────────╮\n",
      "│                                                                                                  │\n",
      "│  \u001b[1m \u001b[0m\u001b[1mId                                \u001b[0m\u001b[1m \u001b[0m \u001b[1m \u001b[0m\u001b[1mType(s)    \u001b[0m\u001b[1m \u001b[0m \u001b[1m \u001b[0m\u001b[1mDescription                              \u001b[0m\u001b[1m \u001b[0m  │\n",
      "│  ──────────────────────────────────────────────────────────────────────────────────────────────  │\n",
      "│  \u001b[3m \u001b[0m\u001b[3mcreate.table.from.csv_file        \u001b[0m\u001b[3m \u001b[0m \u001b[32m \u001b[0m\u001b[32mcreate_from\u001b[0m\u001b[32m \u001b[0m  Create a table from a csv_file value.       │\n",
      "│  \u001b[3m \u001b[0m\u001b[3mcreate.table.from.text_file_bundle\u001b[0m\u001b[3m \u001b[0m \u001b[32m \u001b[0m\u001b[32mcreate_from\u001b[0m\u001b[32m \u001b[0m  Create a table value from a text            │\n",
      "│  \u001b[3m                                    \u001b[0m \u001b[32m             \u001b[0m  file_bundle.                                │\n",
      "│  \u001b[3m \u001b[0m\u001b[3mexport.table.as.csv_file          \u001b[0m\u001b[3m \u001b[0m \u001b[32m \u001b[0m\u001b[32mexport_as  \u001b[0m\u001b[32m \u001b[0m  Export a table as csv file.                 │\n",
      "│  \u001b[3m \u001b[0m\u001b[3mimport.table.from.csv_file        \u001b[0m\u001b[3m \u001b[0m \u001b[32m \u001b[0m\u001b[32mpipeline   \u001b[0m\u001b[32m \u001b[0m  Import a table from a csv file.             │\n",
      "│  \u001b[3m \u001b[0m\u001b[3mimport.table.from.text_file_bundle\u001b[0m\u001b[3m \u001b[0m \u001b[32m \u001b[0m\u001b[32mpipeline   \u001b[0m\u001b[32m \u001b[0m  Load a table from a bundle of text files.   │\n",
      "│  \u001b[3m \u001b[0m\u001b[3mtable.cut_column                  \u001b[0m\u001b[3m \u001b[0m \u001b[32m \u001b[0m\u001b[32m           \u001b[0m\u001b[32m \u001b[0m  Cut off one column from a table,            │\n",
      "│  \u001b[3m                                    \u001b[0m \u001b[32m             \u001b[0m  returning an array.                         │\n",
      "│                                                                                                  │\n",
      "╰──────────────────────────────────────────────────────────────────────────────────────────────────╯\n"
     ]
    }
   ],
   "source": [
    "! kiara operation list table."
   ]
  },
  {
   "cell_type": "code",
   "execution_count": 4,
   "id": "0094cbdc",
   "metadata": {
    "collapsed": false,
    "jupyter": {
     "outputs_hidden": false
    },
    "slideshow": {
     "slide_type": "slide"
    },
    "tags": []
   },
   "outputs": [
    {
     "data": {
      "text/html": [
       "<pre style=\"white-space:pre;overflow-x:auto;line-height:normal;font-family:Menlo,'DejaVu Sans Mono',consolas,'Courier New',monospace\">                                                                                                    \n",
       " <span style=\"font-style: italic\">Documentation    </span>                                                                                  \n",
       " <span style=\"font-style: italic\">                 </span>   Cut off one column from a table, returning an array.                           \n",
       " <span style=\"font-style: italic\">                 </span>                                                                                  \n",
       " <span style=\"font-style: italic\">Author(s)        </span>                                                                                  \n",
       " <span style=\"font-style: italic\">                 </span>   Markus Binsteiner  <span style=\"font-style: italic\"> markus@frkl.io </span>                                            \n",
       " <span style=\"font-style: italic\">                 </span>                                                                                  \n",
       " <span style=\"font-style: italic\">Context          </span>                                                                                  \n",
       " <span style=\"font-style: italic\">                 </span>  <span style=\"font-style: italic\"> Tags       </span>  tabular                                                           \n",
       " <span style=\"font-style: italic\">                 </span>  <span style=\"font-style: italic\"> Labels     </span>  <span style=\"font-style: italic\">package</span>: kiara_plugin.tabular                                     \n",
       " <span style=\"font-style: italic\">                 </span>  <span style=\"font-style: italic\"> References </span>  <span style=\"font-style: italic\">source_repo</span>:                                                      \n",
       " <span style=\"font-style: italic\">                 </span>  <span style=\"font-style: italic\">            </span>  <a href=\"https://github.com/DHARPA-Project/kiara_plugin.tabular\" target=\"_blank\">https://github.com/DHARPA-Project/kiara_plugin.tabular</a>            \n",
       " <span style=\"font-style: italic\">                 </span>  <span style=\"font-style: italic\">            </span>  <span style=\"font-style: italic\">documentation</span>:                                                    \n",
       " <span style=\"font-style: italic\">                 </span>  <span style=\"font-style: italic\">            </span>  <a href=\"https://DHARPA-Project.github.io/kiara_plugin.tabular/\" target=\"_blank\">https://DHARPA-Project.github.io/kiara_plugin.tabular/</a>            \n",
       " <span style=\"font-style: italic\">                 </span>                                                                                  \n",
       " <span style=\"font-style: italic\">Operation details</span>                                                                                  \n",
       " <span style=\"font-style: italic\">                 </span>  <span style=\"font-style: italic\"> Documentation </span>  Cut off one column from a table, returning an array.           \n",
       " <span style=\"font-style: italic\">                 </span>                                                                                  \n",
       " <span style=\"font-style: italic\">                 </span>  <span style=\"font-style: italic\"> Inputs        </span>                                                                 \n",
       " <span style=\"font-style: italic\">                 </span>  <span style=\"font-style: italic\">               </span>   <span style=\"font-weight: bold\"> field name </span> <span style=\"font-weight: bold\"> type   </span> <span style=\"font-weight: bold\"> descripti… </span> <span style=\"font-weight: bold\"> Required </span> <span style=\"font-weight: bold\"> Default    </span>    \n",
       " <span style=\"font-style: italic\">                 </span>  <span style=\"font-style: italic\">               </span>   ──────────────────────────────────────────────────────────    \n",
       " <span style=\"font-style: italic\">                 </span>  <span style=\"font-style: italic\">               </span>   <span style=\"font-style: italic\"> table      </span>  table    A table.     <span style=\"font-weight: bold\">yes</span>        -- no          \n",
       " <span style=\"font-style: italic\">                 </span>  <span style=\"font-style: italic\">               </span>   <span style=\"font-style: italic\">            </span>                                   default --     \n",
       " <span style=\"font-style: italic\">                 </span>  <span style=\"font-style: italic\">               </span>   <span style=\"font-style: italic\"> column_nam </span>  string   The name     <span style=\"font-weight: bold\">yes</span>        -- no          \n",
       " <span style=\"font-style: italic\">                 </span>  <span style=\"font-style: italic\">               </span>   <span style=\"font-style: italic\"> e          </span>           of the                  default --     \n",
       " <span style=\"font-style: italic\">                 </span>  <span style=\"font-style: italic\">               </span>   <span style=\"font-style: italic\">            </span>           column to                              \n",
       " <span style=\"font-style: italic\">                 </span>  <span style=\"font-style: italic\">               </span>   <span style=\"font-style: italic\">            </span>           extract.                               \n",
       " <span style=\"font-style: italic\">                 </span>  <span style=\"font-style: italic\">               </span>                                                                 \n",
       " <span style=\"font-style: italic\">                 </span>                                                                                  \n",
       " <span style=\"font-style: italic\">                 </span>  <span style=\"font-style: italic\"> Outputs       </span>                                                                 \n",
       " <span style=\"font-style: italic\">                 </span>  <span style=\"font-style: italic\">               </span>   <span style=\"font-weight: bold\"> field name </span> <span style=\"font-weight: bold\"> type  </span> <span style=\"font-weight: bold\"> description                         </span>    \n",
       " <span style=\"font-style: italic\">                 </span>  <span style=\"font-style: italic\">               </span>   ──────────────────────────────────────────────────────────    \n",
       " <span style=\"font-style: italic\">                 </span>  <span style=\"font-style: italic\">               </span>   <span style=\"font-style: italic\"> array      </span>  array   The column.                             \n",
       " <span style=\"font-style: italic\">                 </span>  <span style=\"font-style: italic\">               </span>                                                                 \n",
       " <span style=\"font-style: italic\">                 </span>                                                                                  \n",
       "                                                                                                    \n",
       "</pre>\n"
      ],
      "text/plain": [
       "                                                                                                    \n",
       " \u001b[3mDocumentation    \u001b[0m                                                                                  \n",
       " \u001b[3m                 \u001b[0m   Cut off one column from a table, returning an array.                           \n",
       " \u001b[3m                 \u001b[0m                                                                                  \n",
       " \u001b[3mAuthor(s)        \u001b[0m                                                                                  \n",
       " \u001b[3m                 \u001b[0m   Markus Binsteiner  \u001b[3m \u001b[0m\u001b[3mmarkus@frkl.io\u001b[0m\u001b[3m \u001b[0m                                            \n",
       " \u001b[3m                 \u001b[0m                                                                                  \n",
       " \u001b[3mContext          \u001b[0m                                                                                  \n",
       " \u001b[3m                 \u001b[0m  \u001b[3m \u001b[0m\u001b[3mTags      \u001b[0m\u001b[3m \u001b[0m  tabular                                                           \n",
       " \u001b[3m                 \u001b[0m  \u001b[3m \u001b[0m\u001b[3mLabels    \u001b[0m\u001b[3m \u001b[0m  \u001b[3mpackage\u001b[0m: kiara_plugin.tabular                                     \n",
       " \u001b[3m                 \u001b[0m  \u001b[3m \u001b[0m\u001b[3mReferences\u001b[0m\u001b[3m \u001b[0m  \u001b[3msource_repo\u001b[0m:                                                      \n",
       " \u001b[3m                 \u001b[0m  \u001b[3m            \u001b[0m  \u001b]8;id=502220;https://github.com/DHARPA-Project/kiara_plugin.tabular\u001b\\https://github.com/DHARPA-Project/kiara_plugin.tabular\u001b]8;;\u001b\\            \n",
       " \u001b[3m                 \u001b[0m  \u001b[3m            \u001b[0m  \u001b[3mdocumentation\u001b[0m:                                                    \n",
       " \u001b[3m                 \u001b[0m  \u001b[3m            \u001b[0m  \u001b]8;id=202456;https://DHARPA-Project.github.io/kiara_plugin.tabular/\u001b\\https://DHARPA-Project.github.io/kiara_plugin.tabular/\u001b]8;;\u001b\\            \n",
       " \u001b[3m                 \u001b[0m                                                                                  \n",
       " \u001b[3mOperation details\u001b[0m                                                                                  \n",
       " \u001b[3m                 \u001b[0m  \u001b[3m \u001b[0m\u001b[3mDocumentation\u001b[0m\u001b[3m \u001b[0m  Cut off one column from a table, returning an array.           \n",
       " \u001b[3m                 \u001b[0m                                                                                  \n",
       " \u001b[3m                 \u001b[0m  \u001b[3m \u001b[0m\u001b[3mInputs       \u001b[0m\u001b[3m \u001b[0m                                                                 \n",
       " \u001b[3m                 \u001b[0m  \u001b[3m               \u001b[0m   \u001b[1m \u001b[0m\u001b[1mfield name\u001b[0m\u001b[1m \u001b[0m \u001b[1m \u001b[0m\u001b[1mtype  \u001b[0m\u001b[1m \u001b[0m \u001b[1m \u001b[0m\u001b[1mdescripti…\u001b[0m\u001b[1m \u001b[0m \u001b[1m \u001b[0m\u001b[1mRequired\u001b[0m\u001b[1m \u001b[0m \u001b[1m \u001b[0m\u001b[1mDefault   \u001b[0m\u001b[1m \u001b[0m    \n",
       " \u001b[3m                 \u001b[0m  \u001b[3m               \u001b[0m   ──────────────────────────────────────────────────────────    \n",
       " \u001b[3m                 \u001b[0m  \u001b[3m               \u001b[0m   \u001b[3m \u001b[0m\u001b[3mtable     \u001b[0m\u001b[3m \u001b[0m  table    A table.     \u001b[1myes\u001b[0m        -- no          \n",
       " \u001b[3m                 \u001b[0m  \u001b[3m               \u001b[0m   \u001b[3m            \u001b[0m                                   default --     \n",
       " \u001b[3m                 \u001b[0m  \u001b[3m               \u001b[0m   \u001b[3m \u001b[0m\u001b[3mcolumn_nam\u001b[0m\u001b[3m \u001b[0m  string   The name     \u001b[1myes\u001b[0m        -- no          \n",
       " \u001b[3m                 \u001b[0m  \u001b[3m               \u001b[0m   \u001b[3m \u001b[0m\u001b[3me         \u001b[0m\u001b[3m \u001b[0m           of the                  default --     \n",
       " \u001b[3m                 \u001b[0m  \u001b[3m               \u001b[0m   \u001b[3m            \u001b[0m           column to                              \n",
       " \u001b[3m                 \u001b[0m  \u001b[3m               \u001b[0m   \u001b[3m            \u001b[0m           extract.                               \n",
       " \u001b[3m                 \u001b[0m  \u001b[3m               \u001b[0m                                                                 \n",
       " \u001b[3m                 \u001b[0m                                                                                  \n",
       " \u001b[3m                 \u001b[0m  \u001b[3m \u001b[0m\u001b[3mOutputs      \u001b[0m\u001b[3m \u001b[0m                                                                 \n",
       " \u001b[3m                 \u001b[0m  \u001b[3m               \u001b[0m   \u001b[1m \u001b[0m\u001b[1mfield name\u001b[0m\u001b[1m \u001b[0m \u001b[1m \u001b[0m\u001b[1mtype \u001b[0m\u001b[1m \u001b[0m \u001b[1m \u001b[0m\u001b[1mdescription                        \u001b[0m\u001b[1m \u001b[0m    \n",
       " \u001b[3m                 \u001b[0m  \u001b[3m               \u001b[0m   ──────────────────────────────────────────────────────────    \n",
       " \u001b[3m                 \u001b[0m  \u001b[3m               \u001b[0m   \u001b[3m \u001b[0m\u001b[3marray     \u001b[0m\u001b[3m \u001b[0m  array   The column.                             \n",
       " \u001b[3m                 \u001b[0m  \u001b[3m               \u001b[0m                                                                 \n",
       " \u001b[3m                 \u001b[0m                                                                                  \n",
       "                                                                                                    \n"
      ]
     },
     "execution_count": 4,
     "metadata": {},
     "output_type": "execute_result"
    }
   ],
   "source": [
    "# 'get_operation_info' provides augmented metadata in addition to what 'get_operation' would give us\n",
    "api.get_operation_info(\"table.cut_column\")"
   ]
  },
  {
   "cell_type": "code",
   "execution_count": 5,
   "id": "9eecf10a",
   "metadata": {
    "collapsed": false,
    "jupyter": {
     "outputs_hidden": false
    },
    "slideshow": {
     "slide_type": "slide"
    },
    "tags": []
   },
   "outputs": [
    {
     "data": {
      "text/html": [
       "<pre style=\"white-space:pre;overflow-x:auto;line-height:normal;font-family:Menlo,'DejaVu Sans Mono',consolas,'Courier New',monospace\">                                                                                                    \n",
       " <span style=\"font-style: italic\"> Documentation </span>  Cut off one column from a table, returning an array.                              \n",
       "                                                                                                    \n",
       " <span style=\"font-style: italic\"> Inputs        </span>                                                                                    \n",
       " <span style=\"font-style: italic\">               </span>   <span style=\"font-weight: bold\"> field name </span> <span style=\"font-weight: bold\"> type  </span> <span style=\"font-weight: bold\"> description               </span> <span style=\"font-weight: bold\"> Required </span> <span style=\"font-weight: bold\"> Default          </span>   \n",
       " <span style=\"font-style: italic\">               </span>   ──────────────────────────────────────────────────────────────────────────────   \n",
       " <span style=\"font-style: italic\">               </span>   <span style=\"font-style: italic\"> table      </span>  table   A table.                    <span style=\"font-weight: bold\">yes</span>        -- no default --    \n",
       " <span style=\"font-style: italic\">               </span>                                                                                    \n",
       "                                                                                                    \n",
       " <span style=\"font-style: italic\"> Outputs       </span>                                                                                    \n",
       " <span style=\"font-style: italic\">               </span>   <span style=\"font-weight: bold\"> field name </span> <span style=\"font-weight: bold\"> type  </span> <span style=\"font-weight: bold\"> description                                             </span>   \n",
       " <span style=\"font-style: italic\">               </span>   ──────────────────────────────────────────────────────────────────────────────   \n",
       " <span style=\"font-style: italic\">               </span>   <span style=\"font-style: italic\"> array      </span>  array   The column.                                                \n",
       " <span style=\"font-style: italic\">               </span>                                                                                    \n",
       "                                                                                                    \n",
       "</pre>\n"
      ],
      "text/plain": [
       "                                                                                                    \n",
       " \u001b[3m \u001b[0m\u001b[3mDocumentation\u001b[0m\u001b[3m \u001b[0m  Cut off one column from a table, returning an array.                              \n",
       "                                                                                                    \n",
       " \u001b[3m \u001b[0m\u001b[3mInputs       \u001b[0m\u001b[3m \u001b[0m                                                                                    \n",
       " \u001b[3m               \u001b[0m   \u001b[1m \u001b[0m\u001b[1mfield name\u001b[0m\u001b[1m \u001b[0m \u001b[1m \u001b[0m\u001b[1mtype \u001b[0m\u001b[1m \u001b[0m \u001b[1m \u001b[0m\u001b[1mdescription              \u001b[0m\u001b[1m \u001b[0m \u001b[1m \u001b[0m\u001b[1mRequired\u001b[0m\u001b[1m \u001b[0m \u001b[1m \u001b[0m\u001b[1mDefault         \u001b[0m\u001b[1m \u001b[0m   \n",
       " \u001b[3m               \u001b[0m   ──────────────────────────────────────────────────────────────────────────────   \n",
       " \u001b[3m               \u001b[0m   \u001b[3m \u001b[0m\u001b[3mtable     \u001b[0m\u001b[3m \u001b[0m  table   A table.                    \u001b[1myes\u001b[0m        -- no default --    \n",
       " \u001b[3m               \u001b[0m                                                                                    \n",
       "                                                                                                    \n",
       " \u001b[3m \u001b[0m\u001b[3mOutputs      \u001b[0m\u001b[3m \u001b[0m                                                                                    \n",
       " \u001b[3m               \u001b[0m   \u001b[1m \u001b[0m\u001b[1mfield name\u001b[0m\u001b[1m \u001b[0m \u001b[1m \u001b[0m\u001b[1mtype \u001b[0m\u001b[1m \u001b[0m \u001b[1m \u001b[0m\u001b[1mdescription                                            \u001b[0m\u001b[1m \u001b[0m   \n",
       " \u001b[3m               \u001b[0m   ──────────────────────────────────────────────────────────────────────────────   \n",
       " \u001b[3m               \u001b[0m   \u001b[3m \u001b[0m\u001b[3marray     \u001b[0m\u001b[3m \u001b[0m  array   The column.                                                \n",
       " \u001b[3m               \u001b[0m                                                                                    \n",
       "                                                                                                    \n"
      ]
     },
     "execution_count": 5,
     "metadata": {},
     "output_type": "execute_result"
    }
   ],
   "source": [
    "other_op = api.create_operation(\"table.cut_column\", module_config={\"column_name\": \"file_name\"})\n",
    "other_op"
   ]
  },
  {
   "cell_type": "markdown",
   "id": "e82375c3-1f28-4482-8e1b-fdd0fd75d202",
   "metadata": {
    "slideshow": {
     "slide_type": "slide"
    },
    "tags": []
   },
   "source": [
    "## Pipeline"
   ]
  },
  {
   "cell_type": "code",
   "execution_count": 6,
   "id": "02505ab7-ad10-4c9a-abb7-12cb4d02f602",
   "metadata": {
    "slideshow": {
     "slide_type": "fragment"
    },
    "tags": []
   },
   "outputs": [],
   "source": [
    "pipeline_desc = \"\"\"\n",
    "\n",
    "  pipeline_name: corpus_onboarding\n",
    "  \n",
    "  doc: Onboard a text corpus from a local folder of timestamped files.\n",
    "  \n",
    "  steps:\n",
    "    - module_type: import.file_bundle\n",
    "      step_id: import_text_corpus\n",
    "      \n",
    "    - module_type: create.table.from.text_file_bundle\n",
    "      step_id: create_corpus_table\n",
    "      input_links:\n",
    "        text_file_bundle: import_text_corpus.file_bundle\n",
    "        \n",
    "    - module_type: table.cut_column\n",
    "      step_id: extract_filename_column\n",
    "      module_config:\n",
    "        column_name: \"file_name\"\n",
    "      input_links:\n",
    "        table: create_corpus_table.table\n",
    "        \n",
    "    - module_type: parse.date_array\n",
    "      step_id: create_date_array\n",
    "      input_links:\n",
    "        array: extract_filename_column.array\n",
    "        \n",
    "    - module_type: table.merge\n",
    "      step_id: merge_table\n",
    "      module_config:\n",
    "        inputs_schema:\n",
    "          source_table:\n",
    "            type: table\n",
    "            doc: The original table.\n",
    "          date_array:\n",
    "            type: array\n",
    "            doc: The array containing the parsed date items.\n",
    "        column_map:\n",
    "          date: date_array\n",
    "          content: source_table.content\n",
    "          file_name: source_table.file_name\n",
    "      input_links:\n",
    "        source_table: create_corpus_table.table\n",
    "        date_array: create_date_array.date_array\n",
    "\"\"\""
   ]
  },
  {
   "cell_type": "code",
   "execution_count": 7,
   "id": "537d2571",
   "metadata": {
    "collapsed": false,
    "jupyter": {
     "outputs_hidden": false
    },
    "slideshow": {
     "slide_type": "skip"
    },
    "tags": []
   },
   "outputs": [],
   "source": [
    "# hidden cell, pipeline config has inputs/outputs (would be too large for slide)\n",
    "pipeline_desc = \"\"\"\n",
    "pipeline_name: corpus_onboarding\n",
    "doc: Onboard a text corpus.\n",
    "steps:\n",
    "  - module_type: import.file_bundle\n",
    "    step_id: import_text_corpus\n",
    "  - module_type: create.table.from.text_file_bundle\n",
    "    step_id: create_corpus_table\n",
    "    input_links:\n",
    "      text_file_bundle: import_text_corpus.file_bundle\n",
    "  - module_type: table.cut_column\n",
    "    step_id: extract_filename_column\n",
    "    module_config:\n",
    "      column_name: \"file_name\"\n",
    "    input_links:\n",
    "      table: create_corpus_table.table\n",
    "  - module_type: parse.date_array\n",
    "    step_id: create_date_array\n",
    "    input_links:\n",
    "      array: extract_filename_column.array\n",
    "  - module_type: table.merge\n",
    "    step_id: merge_table\n",
    "    module_config:\n",
    "      inputs_schema:\n",
    "        source_table:\n",
    "          type: table\n",
    "          doc: The original table.\n",
    "        date_array:\n",
    "          type: array\n",
    "          doc: The array containing the parsed date items.\n",
    "      column_map:\n",
    "        date: date_array\n",
    "        content: source_table.content\n",
    "        file_name: source_table.file_name\n",
    "    input_links:\n",
    "      source_table: create_corpus_table.table\n",
    "      date_array: create_date_array.date_array\n",
    "\n",
    "input_aliases:\n",
    "  import_text_corpus.path: text_corpus_folder_path\n",
    "  create_date_array.min_index: date_parse_min\n",
    "  create_date_array.max_index: date_parse_max\n",
    "  create_date_array.force_non_null: force_parsed_date\n",
    "  create_date_array.remove_tokens: remove_tokens\n",
    "\n",
    "output_aliases:\n",
    "  merge_table.table: merged_table\n",
    "\"\"\""
   ]
  },
  {
   "cell_type": "code",
   "execution_count": 8,
   "id": "8ee31152-5bcd-4bfe-9150-45780e99f0be",
   "metadata": {
    "@deathbeds/jupyterlab-fonts": {
     "styles": {
      "": {
       "body[data-jp-deck-mode='presenting'] &": {
        "opacity": "100%",
        "z-index": "10",
        "zoom": "500%"
       }
      }
     }
    },
    "slideshow": {
     "slide_type": "slide"
    },
    "tags": []
   },
   "outputs": [
    {
     "data": {
      "text/html": [
       "<pre style=\"white-space:pre;overflow-x:auto;line-height:normal;font-family:Menlo,'DejaVu Sans Mono',consolas,'Courier New',monospace\">                                                                                                    \n",
       " <span style=\"font-style: italic\"> doc       </span>  Onboard a text corpus.                                                                \n",
       " <span style=\"font-style: italic\"> structure </span>  pipeline                                                                              \n",
       " <span style=\"font-style: italic\">           </span>  ├── inputs                                                                            \n",
       " <span style=\"font-style: italic\">           </span>  │   ├── <span style=\"font-style: italic\">text_corpus_folder_path (type: string)</span>                                        \n",
       " <span style=\"font-style: italic\">           </span>  │   ├── <span style=\"font-style: italic\">force_parsed_date (type: boolean)</span>                                             \n",
       " <span style=\"font-style: italic\">           </span>  │   ├── <span style=\"font-style: italic\">date_parse_min (type: integer)</span>                                                \n",
       " <span style=\"font-style: italic\">           </span>  │   ├── <span style=\"font-style: italic\">date_parse_max (type: integer)</span>                                                \n",
       " <span style=\"font-style: italic\">           </span>  │   └── <span style=\"font-style: italic\">remove_tokens (type: list)</span>                                                    \n",
       " <span style=\"font-style: italic\">           </span>  ├── steps                                                                             \n",
       " <span style=\"font-style: italic\">           </span>  │   ├── stage 1                                                                       \n",
       " <span style=\"font-style: italic\">           </span>  │   │   └── step: import_text_corpus                                                  \n",
       " <span style=\"font-style: italic\">           </span>  │   │       └── module: import.file_bundle                                            \n",
       " <span style=\"font-style: italic\">           </span>  │   ├── stage 2                                                                       \n",
       " <span style=\"font-style: italic\">           </span>  │   │   └── step: create_corpus_table                                                 \n",
       " <span style=\"font-style: italic\">           </span>  │   │       └── module: create.table.from.text_file_bundle                            \n",
       " <span style=\"font-style: italic\">           </span>  │   ├── stage 3                                                                       \n",
       " <span style=\"font-style: italic\">           </span>  │   │   └── step: extract_filename_column                                             \n",
       " <span style=\"font-style: italic\">           </span>  │   │       └── module: table.cut_column                                              \n",
       " <span style=\"font-style: italic\">           </span>  │   ├── stage 4                                                                       \n",
       " <span style=\"font-style: italic\">           </span>  │   │   └── step: create_date_array                                                   \n",
       " <span style=\"font-style: italic\">           </span>  │   │       └── module: parse.date_array                                              \n",
       " <span style=\"font-style: italic\">           </span>  │   └── stage 5                                                                       \n",
       " <span style=\"font-style: italic\">           </span>  │       └── step: merge_table                                                         \n",
       " <span style=\"font-style: italic\">           </span>  │           └── module: table.merge                                                   \n",
       " <span style=\"font-style: italic\">           </span>  └── outputs                                                                           \n",
       " <span style=\"font-style: italic\">           </span>      └── <span style=\"font-style: italic\">merged_table (type: table)</span>                                                    \n",
       "                                                                                                    \n",
       "</pre>\n"
      ],
      "text/plain": [
       "                                                                                                    \n",
       " \u001b[3m \u001b[0m\u001b[3mdoc      \u001b[0m\u001b[3m \u001b[0m  Onboard a text corpus.                                                                \n",
       " \u001b[3m \u001b[0m\u001b[3mstructure\u001b[0m\u001b[3m \u001b[0m  pipeline                                                                              \n",
       " \u001b[3m           \u001b[0m  ├── inputs                                                                            \n",
       " \u001b[3m           \u001b[0m  │   ├── \u001b[3mtext_corpus_folder_path\u001b[0m\u001b[3m (type: string)\u001b[0m                                        \n",
       " \u001b[3m           \u001b[0m  │   ├── \u001b[3mforce_parsed_date\u001b[0m\u001b[3m (type: boolean)\u001b[0m                                             \n",
       " \u001b[3m           \u001b[0m  │   ├── \u001b[3mdate_parse_min\u001b[0m\u001b[3m (type: integer)\u001b[0m                                                \n",
       " \u001b[3m           \u001b[0m  │   ├── \u001b[3mdate_parse_max\u001b[0m\u001b[3m (type: integer)\u001b[0m                                                \n",
       " \u001b[3m           \u001b[0m  │   └── \u001b[3mremove_tokens\u001b[0m\u001b[3m (type: list)\u001b[0m                                                    \n",
       " \u001b[3m           \u001b[0m  ├── steps                                                                             \n",
       " \u001b[3m           \u001b[0m  │   ├── stage 1                                                                       \n",
       " \u001b[3m           \u001b[0m  │   │   └── step: import_text_corpus                                                  \n",
       " \u001b[3m           \u001b[0m  │   │       └── module: import.file_bundle                                            \n",
       " \u001b[3m           \u001b[0m  │   ├── stage 2                                                                       \n",
       " \u001b[3m           \u001b[0m  │   │   └── step: create_corpus_table                                                 \n",
       " \u001b[3m           \u001b[0m  │   │       └── module: create.table.from.text_file_bundle                            \n",
       " \u001b[3m           \u001b[0m  │   ├── stage 3                                                                       \n",
       " \u001b[3m           \u001b[0m  │   │   └── step: extract_filename_column                                             \n",
       " \u001b[3m           \u001b[0m  │   │       └── module: table.cut_column                                              \n",
       " \u001b[3m           \u001b[0m  │   ├── stage 4                                                                       \n",
       " \u001b[3m           \u001b[0m  │   │   └── step: create_date_array                                                   \n",
       " \u001b[3m           \u001b[0m  │   │       └── module: parse.date_array                                              \n",
       " \u001b[3m           \u001b[0m  │   └── stage 5                                                                       \n",
       " \u001b[3m           \u001b[0m  │       └── step: merge_table                                                         \n",
       " \u001b[3m           \u001b[0m  │           └── module: table.merge                                                   \n",
       " \u001b[3m           \u001b[0m  └── outputs                                                                           \n",
       " \u001b[3m           \u001b[0m      └── \u001b[3mmerged_table\u001b[0m\u001b[3m (type: table)\u001b[0m                                                    \n",
       "                                                                                                    \n"
      ]
     },
     "execution_count": 8,
     "metadata": {},
     "output_type": "execute_result"
    }
   ],
   "source": [
    "op = api.create_operation(module_type=\"pipeline\", module_config=pipeline_desc)\n",
    "op.pipeline_config"
   ]
  },
  {
   "cell_type": "code",
   "execution_count": 9,
   "id": "10d6f5ed",
   "metadata": {
    "collapsed": false,
    "jupyter": {
     "outputs_hidden": false
    },
    "slideshow": {
     "slide_type": "slide"
    },
    "tags": []
   },
   "outputs": [
    {
     "data": {
      "application/vnd.jupyter.widget-view+json": {
       "model_id": "6d2786bbf0c14d798f6eba39a927cd51",
       "version_major": 2,
       "version_minor": 0
      },
      "text/plain": [
       "DagreD3Widget()"
      ]
     },
     "execution_count": 9,
     "metadata": {},
     "output_type": "execute_result"
    }
   ],
   "source": [
    "graph_widget(op.pipeline_config)"
   ]
  },
  {
   "cell_type": "code",
   "execution_count": 10,
   "id": "dfb22820",
   "metadata": {
    "collapsed": false,
    "jupyter": {
     "outputs_hidden": false
    },
    "slideshow": {
     "slide_type": "slide"
    },
    "tags": []
   },
   "outputs": [
    {
     "data": {
      "application/vnd.jupyter.widget-view+json": {
       "model_id": "d92d7b1c2db7478e9801592af34b83ca",
       "version_major": 2,
       "version_minor": 0
      },
      "text/plain": [
       "DagreD3Widget()"
      ]
     },
     "execution_count": 10,
     "metadata": {},
     "output_type": "execute_result"
    }
   ],
   "source": [
    "graph_widget(op.pipeline_config, graph_type=\"data-flow-simple\")"
   ]
  },
  {
   "cell_type": "code",
   "execution_count": 11,
   "id": "b109b98c-e051-4d2c-ba09-2d25fbe9de89",
   "metadata": {
    "slideshow": {
     "slide_type": "slide"
    },
    "tags": []
   },
   "outputs": [
    {
     "name": "stdout",
     "output_type": "stream",
     "text": [
      "\n",
      "╭─ \u001b[1mResult\u001b[0m ─────────────────────────────────────────────────────────────────────────────────────────╮\n",
      "│                                                                                                  │\n",
      "│  \u001b[1m \u001b[0m\u001b[1mfield       \u001b[0m\u001b[1m \u001b[0m \u001b[1m \u001b[0m\u001b[1mdata_type\u001b[0m\u001b[1m \u001b[0m \u001b[1m \u001b[0m\u001b[1mvalue                                                            \u001b[0m\u001b[1m \u001b[0m  │\n",
      "│  ──────────────────────────────────────────────────────────────────────────────────────────────  │\n",
      "│  \u001b[1m \u001b[0m\u001b[1mmerged_table\u001b[0m\u001b[1m \u001b[0m  table      \u001b[3m \u001b[0m\u001b[3m                                                                 \u001b[0m\u001b[3m \u001b[0m  │\n",
      "│  \u001b[1m              \u001b[0m             \u001b[3m \u001b[0m\u001b[3m \u001b[0m\u001b[1;3m \u001b[0m\u001b[1;3mdate\u001b[0m\u001b[1;3m              \u001b[0m\u001b[1;3m \u001b[0m\u001b[3m \u001b[0m\u001b[1;3m \u001b[0m\u001b[1;3mcontent\u001b[0m\u001b[1;3m            \u001b[0m\u001b[1;3m \u001b[0m\u001b[3m \u001b[0m\u001b[1;3m \u001b[0m\u001b[1;3mfile_name\u001b[0m\u001b[1;3m         \u001b[0m\u001b[1;3m \u001b[0m\u001b[3m \u001b[0m\u001b[3m \u001b[0m  │\n",
      "│  \u001b[1m              \u001b[0m             \u001b[3m \u001b[0m\u001b[3m ─────────────────────────────────────────────────────────────── \u001b[0m\u001b[3m \u001b[0m  │\n",
      "│  \u001b[1m              \u001b[0m             \u001b[3m \u001b[0m\u001b[3m \u001b[0m\u001b[3m \u001b[0m\u001b[3m1917-04-25 00:00:0\u001b[0m\u001b[3m \u001b[0m\u001b[3m \u001b[0m\u001b[3m \u001b[0m\u001b[3mLA RAGIONE\u001b[0m\u001b[3m         \u001b[0m\u001b[3m \u001b[0m\u001b[3m \u001b[0m\u001b[3m \u001b[0m\u001b[3msn84037024_1917-04\u001b[0m\u001b[3m \u001b[0m\u001b[3m \u001b[0m\u001b[3m \u001b[0m  │\n",
      "│  \u001b[1m              \u001b[0m             \u001b[3m \u001b[0m\u001b[3m \u001b[0m\u001b[3m \u001b[0m\u001b[3m1917-04-25 00:00:0\u001b[0m\u001b[3m \u001b[0m\u001b[3m \u001b[0m\u001b[3m \u001b[0m\u001b[3mLA RAG ONE\u001b[0m\u001b[3m         \u001b[0m\u001b[3m \u001b[0m\u001b[3m \u001b[0m\u001b[3m \u001b[0m\u001b[3msn84037024_1917-04\u001b[0m\u001b[3m \u001b[0m\u001b[3m \u001b[0m\u001b[3m \u001b[0m  │\n",
      "│  \u001b[1m              \u001b[0m             \u001b[3m \u001b[0m\u001b[3m \u001b[0m\u001b[3m \u001b[0m\u001b[3m1917-04-25 00:00:0\u001b[0m\u001b[3m \u001b[0m\u001b[3m \u001b[0m\u001b[3m \u001b[0m\u001b[3mLA RAGIONE\u001b[0m\u001b[3m         \u001b[0m\u001b[3m \u001b[0m\u001b[3m \u001b[0m\u001b[3m \u001b[0m\u001b[3msn84037024_1917-04\u001b[0m\u001b[3m \u001b[0m\u001b[3m \u001b[0m\u001b[3m \u001b[0m  │\n",
      "│  \u001b[1m              \u001b[0m             \u001b[3m \u001b[0m\u001b[3m \u001b[0m\u001b[3m \u001b[0m\u001b[3m1917-04-25 00:00:0\u001b[0m\u001b[3m \u001b[0m\u001b[3m \u001b[0m\u001b[3m \u001b[0m\u001b[3mcontro i vili, i ca\u001b[0m\u001b[3m \u001b[0m\u001b[3m \u001b[0m\u001b[3m \u001b[0m\u001b[3msn84037024_1917-04\u001b[0m\u001b[3m \u001b[0m\u001b[3m \u001b[0m\u001b[3m \u001b[0m  │\n",
      "│  \u001b[1m              \u001b[0m             \u001b[3m \u001b[0m\u001b[3m \u001b[0m\u001b[3m \u001b[0m\u001b[3m1917-05-05 00:00:0\u001b[0m\u001b[3m \u001b[0m\u001b[3m \u001b[0m\u001b[3m \u001b[0m\u001b[3mcontro i vili, i ca\u001b[0m\u001b[3m \u001b[0m\u001b[3m \u001b[0m\u001b[3m \u001b[0m\u001b[3msn84037024_1917-05\u001b[0m\u001b[3m \u001b[0m\u001b[3m \u001b[0m\u001b[3m \u001b[0m  │\n",
      "│  \u001b[1m              \u001b[0m             \u001b[3m \u001b[0m\u001b[3m \u001b[0m\u001b[3m \u001b[0m\u001b[3m1917-05-05 00:00:0\u001b[0m\u001b[3m \u001b[0m\u001b[3m \u001b[0m\u001b[3m \u001b[0m\u001b[3mLA RAGIONA\u001b[0m\u001b[3m         \u001b[0m\u001b[3m \u001b[0m\u001b[3m \u001b[0m\u001b[3m \u001b[0m\u001b[3msn84037024_1917-05\u001b[0m\u001b[3m \u001b[0m\u001b[3m \u001b[0m\u001b[3m \u001b[0m  │\n",
      "│  \u001b[1m              \u001b[0m             \u001b[3m \u001b[0m\u001b[3m \u001b[0m\u001b[3m \u001b[0m\u001b[3m1917-05-05 00:00:0\u001b[0m\u001b[3m \u001b[0m\u001b[3m \u001b[0m\u001b[3m \u001b[0m\u001b[3mLA RAGIONE\u001b[0m\u001b[3m         \u001b[0m\u001b[3m \u001b[0m\u001b[3m \u001b[0m\u001b[3m \u001b[0m\u001b[3msn84037024_1917-05\u001b[0m\u001b[3m \u001b[0m\u001b[3m \u001b[0m\u001b[3m \u001b[0m  │\n",
      "│  \u001b[1m              \u001b[0m             \u001b[3m \u001b[0m\u001b[3m \u001b[0m\u001b[3m \u001b[0m\u001b[3m1917-05-05 00:00:0\u001b[0m\u001b[3m \u001b[0m\u001b[3m \u001b[0m\u001b[3m \u001b[0m\u001b[3mLA RAGIONE\u001b[0m\u001b[3m         \u001b[0m\u001b[3m \u001b[0m\u001b[3m \u001b[0m\u001b[3m \u001b[0m\u001b[3msn84037024_1917-05\u001b[0m\u001b[3m \u001b[0m\u001b[3m \u001b[0m\u001b[3m \u001b[0m  │\n",
      "│  \u001b[1m              \u001b[0m             \u001b[3m \u001b[0m\u001b[3m \u001b[0m\u001b[3m \u001b[0m\u001b[3m1917-05-16 00:00:0\u001b[0m\u001b[3m \u001b[0m\u001b[3m \u001b[0m\u001b[3m \u001b[0m\u001b[3mcontro i vili, i ca\u001b[0m\u001b[3m \u001b[0m\u001b[3m \u001b[0m\u001b[3m \u001b[0m\u001b[3msn84037024_1917-05\u001b[0m\u001b[3m \u001b[0m\u001b[3m \u001b[0m\u001b[3m \u001b[0m  │\n",
      "│  \u001b[1m              \u001b[0m             \u001b[3m \u001b[0m\u001b[3m \u001b[0m\u001b[3m \u001b[0m\u001b[3m1917-05-16 00:00:0\u001b[0m\u001b[3m \u001b[0m\u001b[3m \u001b[0m\u001b[3m \u001b[0m\u001b[3mLA RAG ONE\u001b[0m\u001b[3m         \u001b[0m\u001b[3m \u001b[0m\u001b[3m \u001b[0m\u001b[3m \u001b[0m\u001b[3msn84037024_1917-05\u001b[0m\u001b[3m \u001b[0m\u001b[3m \u001b[0m\u001b[3m \u001b[0m  │\n",
      "│  \u001b[1m              \u001b[0m             \u001b[3m \u001b[0m\u001b[3m \u001b[0m\u001b[3m \u001b[0m\u001b[3m1917-05-16 00:00:0\u001b[0m\u001b[3m \u001b[0m\u001b[3m \u001b[0m\u001b[3m \u001b[0m\u001b[3mcontro 1 vili, i ca\u001b[0m\u001b[3m \u001b[0m\u001b[3m \u001b[0m\u001b[3m \u001b[0m\u001b[3msn84037024_1917-05\u001b[0m\u001b[3m \u001b[0m\u001b[3m \u001b[0m\u001b[3m \u001b[0m  │\n",
      "│  \u001b[1m              \u001b[0m             \u001b[3m \u001b[0m\u001b[3m \u001b[0m\u001b[3m \u001b[0m\u001b[3m1917-04-07 00:00:0\u001b[0m\u001b[3m \u001b[0m\u001b[3m \u001b[0m\u001b[3m \u001b[0m\u001b[3m■■■\u001b[0m\u001b[3m                \u001b[0m\u001b[3m \u001b[0m\u001b[3m \u001b[0m\u001b[3m \u001b[0m\u001b[3msn84037025_1917-04\u001b[0m\u001b[3m \u001b[0m\u001b[3m \u001b[0m\u001b[3m \u001b[0m  │\n",
      "│  \u001b[1m              \u001b[0m             \u001b[3m \u001b[0m\u001b[3m \u001b[0m\u001b[3m \u001b[0m\u001b[3m1917-04-14 00:00:0\u001b[0m\u001b[3m \u001b[0m\u001b[3m \u001b[0m\u001b[3m \u001b[0m\u001b[3mLa Rassegna\u001b[0m\u001b[3m        \u001b[0m\u001b[3m \u001b[0m\u001b[3m \u001b[0m\u001b[3m \u001b[0m\u001b[3msn84037025_1917-04\u001b[0m\u001b[3m \u001b[0m\u001b[3m \u001b[0m\u001b[3m \u001b[0m  │\n",
      "│  \u001b[1m              \u001b[0m             \u001b[3m \u001b[0m\u001b[3m \u001b[0m\u001b[3m \u001b[0m\u001b[3m1917-04-14 00:00:0\u001b[0m\u001b[3m \u001b[0m\u001b[3m \u001b[0m\u001b[3m \u001b[0m\u001b[3mBoth Phones\u001b[0m\u001b[3m        \u001b[0m\u001b[3m \u001b[0m\u001b[3m \u001b[0m\u001b[3m \u001b[0m\u001b[3msn84037025_1917-04\u001b[0m\u001b[3m \u001b[0m\u001b[3m \u001b[0m\u001b[3m \u001b[0m  │\n",
      "│  \u001b[1m              \u001b[0m             \u001b[3m \u001b[0m\u001b[3m \u001b[0m\u001b[3m \u001b[0m\u001b[3m1917-04-21 00:00:0\u001b[0m\u001b[3m \u001b[0m\u001b[3m \u001b[0m\u001b[3m \u001b[0m\u001b[3m■ jSrìt** W?? iIK 3\u001b[0m\u001b[3m \u001b[0m\u001b[3m \u001b[0m\u001b[3m \u001b[0m\u001b[3msn84037025_1917-04\u001b[0m\u001b[3m \u001b[0m\u001b[3m \u001b[0m\u001b[3m \u001b[0m  │\n",
      "│  \u001b[1m              \u001b[0m             \u001b[3m \u001b[0m\u001b[3m \u001b[0m\u001b[3m \u001b[0m\u001b[3m1917-04-21 00:00:0\u001b[0m\u001b[3m \u001b[0m\u001b[3m \u001b[0m\u001b[3m \u001b[0m\u001b[3m■Both Phones\u001b[0m\u001b[3m       \u001b[0m\u001b[3m \u001b[0m\u001b[3m \u001b[0m\u001b[3m \u001b[0m\u001b[3msn84037025_1917-04\u001b[0m\u001b[3m \u001b[0m\u001b[3m \u001b[0m\u001b[3m \u001b[0m  │\n",
      "│  \u001b[1m              \u001b[0m             \u001b[3m \u001b[0m\u001b[3m                                                                 \u001b[0m\u001b[3m \u001b[0m  │\n",
      "│                                                                                                  │\n",
      "╰──────────────────────────────────────────────────────────────────────────────────────────────────╯\n",
      "\n",
      "╭─ \u001b[1mStored result value\u001b[0m ────────────────────────────────────────────────────────────────────────────╮\n",
      "│                                                                                                  │\n",
      "│  \u001b[1m \u001b[0m\u001b[1mfield       \u001b[0m\u001b[1m \u001b[0m \u001b[1m \u001b[0m\u001b[1mdata type\u001b[0m\u001b[1m \u001b[0m \u001b[1m \u001b[0m\u001b[1mstored id                           \u001b[0m\u001b[1m \u001b[0m \u001b[1m \u001b[0m\u001b[1malias(es)                 \u001b[0m\u001b[1m \u001b[0m  │\n",
      "│  ──────────────────────────────────────────────────────────────────────────────────────────────  │\n",
      "│  \u001b[1m \u001b[0m\u001b[1mmerged_table\u001b[0m\u001b[1m \u001b[0m \u001b[3m \u001b[0m\u001b[3mtable    \u001b[0m\u001b[3m \u001b[0m \u001b[3m \u001b[0m\u001b[3m64865d23-f456-4fa4-b455-e96108e3cb98\u001b[0m\u001b[3m \u001b[0m  corpus_import.merged_table   │\n",
      "│                                                                                                  │\n",
      "╰──────────────────────────────────────────────────────────────────────────────────────────────────╯\n"
     ]
    }
   ],
   "source": [
    "! kiara run --save corpus_import /home/markus/projects/kiara/dev/kiara.examples/examples/pipelines/topic_modeling/corpus_onboarding.yaml text_corpus_folder_path=/home/markus/projects/kiara/dev/kiara.examples/examples/data/text_corpus/data/\n"
   ]
  },
  {
   "cell_type": "code",
   "execution_count": 12,
   "id": "61ff85b6",
   "metadata": {
    "collapsed": false,
    "jupyter": {
     "outputs_hidden": false
    },
    "slideshow": {
     "slide_type": "slide"
    },
    "tags": []
   },
   "outputs": [
    {
     "name": "stdout",
     "output_type": "stream",
     "text": [
      "\n",
      "╭─ Available aliases ──────────────────────────────────────────────────────────────────────────────╮\n",
      "│                                                                                                  │\n",
      "│  \u001b[1m \u001b[0m\u001b[1malias                      \u001b[0m\u001b[1m \u001b[0m \u001b[1m \u001b[0m\u001b[1mtype        \u001b[0m\u001b[1m \u001b[0m \u001b[1m \u001b[0m\u001b[1m     size\u001b[0m\u001b[1m \u001b[0m                                        │\n",
      "│  ────────────────────────────────────────────────────────                                        │\n",
      "│   network.network_data          network_data    61.44 KB                                         │\n",
      "│   tm.text_corpus_file_bundle    file_bundle    300.31 KB                                         │\n",
      "│   tm.text_corpus_table          table          303.45 KB                                         │\n",
      "│   tm.content_array              array          298.99 KB                                         │\n",
      "│   tm.tokenized_corpus           array          709.15 KB                                         │\n",
      "│   tm.preprocessed_corpus        array          489.27 KB                                         │\n",
      "│   tm.coherence_map              dict           228 bytes                                         │\n",
      "│   tm.coherence_table            table            2.13 KB                                         │\n",
      "│   tm.date_array                 array          586 bytes                                         │\n",
      "│   tm.topic_models               dict              3.8 KB                                         │\n",
      "│   journal_nodes.table           table           42.79 KB                                         │\n",
      "│   journal_edges.table           table            9.13 KB                                         │\n",
      "│   corpus_import.merged_table    table          300.77 KB                                         │\n",
      "│   corpus_import2.merged_table   table          300.77 KB                                         │\n",
      "│   journal_nodes.imported_file   file            33.43 KB                                         │\n",
      "│   journal_edges.imported_file   file             3.02 KB                                         │\n",
      "│                                                                                                  │\n",
      "╰──────────────────────────────────────────────────────────────────────────────────────────────────╯\n"
     ]
    }
   ],
   "source": [
    "! kiara data list\n"
   ]
  },
  {
   "cell_type": "markdown",
   "id": "feca436d",
   "metadata": {
    "slideshow": {
     "slide_type": "slide"
    },
    "tags": []
   },
   "source": [
    "## Workflow\n",
    "\n",
    "- basically a user 'research session', dealing with one (input) data set or research question\n",
    "- consists of:\n",
    "  - internal pipeline structure, and its history (if applicable)\n",
    "  - user inputs (and their history)\n",
    "- workflow history:\n",
    "  - a list of pipeline/input combinations (workflow states) over time\n",
    "  - can be queried via timestamps, or as a graph (state transitions)\n",
    "- the main API endpoint which frontends will interact with (I imagine)"
   ]
  },
  {
   "cell_type": "markdown",
   "id": "3cb165c7",
   "metadata": {
    "slideshow": {
     "slide_type": "slide"
    },
    "tags": []
   },
   "source": [
    "### Workflow parts"
   ]
  },
  {
   "cell_type": "markdown",
   "id": "28cdd6d6",
   "metadata": {
    "slideshow": {
     "slide_type": "fragment"
    },
    "tags": []
   },
   "source": [
    "### Data onboarding\n",
    "\n",
    "- 'freeze' & 'formalize' user data\n",
    "- transition from 'file' metaphor to 'relevant information'\n",
    "- partially relevant: data cleaning/fixing\n",
    "- goal: clean, specified, 'tagged' & recorded information\n",
    "- always relevent, even if importing clean data from a respected source\n"
   ]
  },
  {
   "cell_type": "markdown",
   "id": "757d0f65",
   "metadata": {
    "slideshow": {
     "slide_type": "fragment"
    },
    "tags": []
   },
   "source": [
    "### Data processing\n",
    "\n",
    "- answering the actual research question\n",
    "- firm requirements of which data types/shapes are expected as inputs\n",
    "- use pre-defined pipeline with expected and documented outcomes\n",
    "-... or iteratively transform input(s) to explore data dynamically\n"
   ]
  },
  {
   "cell_type": "markdown",
   "id": "353125ec",
   "metadata": {
    "slideshow": {
     "slide_type": "slide"
    },
    "tags": []
   },
   "source": [
    "# Data types"
   ]
  },
  {
   "cell_type": "markdown",
   "id": "ecda15dd",
   "metadata": {
    "slideshow": {
     "slide_type": "fragment"
    },
    "tags": []
   },
   "source": [
    "- central to ... everything\n",
    "- focus on information content and structure, not file-tyes/byte-array layout\n",
    "- (arguably) more important than modules/transformation code\n",
    "- well defined information content and serialization/deserialization functions\n",
    "- metadata: lineage, type-dependent properties\n",
    "- core types bundled with *kiara* and *kiara_plugin.core_types*:\n",
    "  - scalars: `bytes`, `string`, `integer`, `float`, `boolean`\n",
    "  - generic container types: `list`, `dict`\n",
    "  - core types: `file`, `file_bundle` (basically raw byte arrays, used when 'onboarding', to be converted to table, network_data, etc.)\n",
    "- domain-specific types are bundled with *kiara* plugin packages:\n",
    "  - `kaira_plugin.tabular`: `table`, `database`\n",
    "  - `kiara_plugin.network_analysis`: `network_data`\n",
    "- utility-types: e.g. `html`, `terminal_renderable`, ... (mostly for use in frontends)"
   ]
  },
  {
   "cell_type": "code",
   "execution_count": 13,
   "id": "8ebc6511",
   "metadata": {
    "collapsed": false,
    "jupyter": {
     "outputs_hidden": false
    },
    "slideshow": {
     "slide_type": "slide"
    },
    "tags": []
   },
   "outputs": [
    {
     "name": "stdout",
     "output_type": "stream",
     "text": [
      "\n",
      "╭─ Value details for: \u001b[1;3mcorpus_import.merged_table\u001b[0m ──────────────────────────────────────────────────╮\n",
      "│                                                                                                  │\n",
      "│  \u001b[3m \u001b[0m\u001b[3mvalue_id         \u001b[0m\u001b[3m \u001b[0m  64865d23-f456-4fa4-b455-e96108e3cb98                                       │\n",
      "│  \u001b[3m \u001b[0m\u001b[3mkiara_id         \u001b[0m\u001b[3m \u001b[0m  aad63fe4-b488-421e-8bbc-d97e8571870b                                       │\n",
      "│  \u001b[3m \u001b[0m\u001b[3m                 \u001b[0m\u001b[3m \u001b[0m                                                                             │\n",
      "│  \u001b[3m \u001b[0m\u001b[3m                 \u001b[0m\u001b[3m \u001b[0m  \u001b[92m────────────────────────────────────────────────────────────────────────\u001b[0m   │\n",
      "│  \u001b[3m \u001b[0m\u001b[3mdata_type_info   \u001b[0m\u001b[3m \u001b[0m                                                                             │\n",
      "│  \u001b[3m                   \u001b[0m   \u001b[3m \u001b[0m\u001b[3mdata_type_name  \u001b[0m\u001b[3m \u001b[0m  table                                                 │\n",
      "│  \u001b[3m                   \u001b[0m   \u001b[3m \u001b[0m\u001b[3mdata_type_config\u001b[0m\u001b[3m \u001b[0m  {}                                                    │\n",
      "│  \u001b[3m                   \u001b[0m   \u001b[3m \u001b[0m\u001b[3mcharacteristics \u001b[0m\u001b[3m \u001b[0m  {                                                     │\n",
      "│  \u001b[3m                   \u001b[0m   \u001b[3m                  \u001b[0m    \"is_scalar\": false,                                 │\n",
      "│  \u001b[3m                   \u001b[0m   \u001b[3m                  \u001b[0m    \"is_json_serializable\": false                       │\n",
      "│  \u001b[3m                   \u001b[0m   \u001b[3m                  \u001b[0m  }                                                     │\n",
      "│  \u001b[3m                   \u001b[0m   \u001b[3m \u001b[0m\u001b[3mdata_type_class \u001b[0m\u001b[3m \u001b[0m                                                        │\n",
      "│  \u001b[3m                   \u001b[0m   \u001b[3m                  \u001b[0m   \u001b[3m \u001b[0m\u001b[3mpython_class_name \u001b[0m\u001b[3m \u001b[0m  TableType                      │\n",
      "│  \u001b[3m                   \u001b[0m   \u001b[3m                  \u001b[0m   \u001b[3m \u001b[0m\u001b[3mpython_module_name\u001b[0m\u001b[3m \u001b[0m  kiara_plugin.tabular.da…       │\n",
      "│  \u001b[3m                   \u001b[0m   \u001b[3m                  \u001b[0m   \u001b[3m \u001b[0m\u001b[3mfull_name         \u001b[0m\u001b[3m \u001b[0m  kiara_plugin.tabular.da…       │\n",
      "│  \u001b[3m                   \u001b[0m   \u001b[3m                  \u001b[0m                                                        │\n",
      "│  \u001b[3m                   \u001b[0m                                                                             │\n",
      "│  \u001b[3m \u001b[0m\u001b[3mdestiny_backlinks\u001b[0m\u001b[3m \u001b[0m  {}                                                                         │\n",
      "│  \u001b[3m \u001b[0m\u001b[3menviroments      \u001b[0m\u001b[3m \u001b[0m  None                                                                       │\n",
      "│  \u001b[3m \u001b[0m\u001b[3mproperties       \u001b[0m\u001b[3m \u001b[0m                                                                             │\n",
      "│  \u001b[3m                   \u001b[0m   \u001b[1m \u001b[0m\u001b[1mfield                \u001b[0m\u001b[1m \u001b[0m \u001b[1m \u001b[0m\u001b[1mvalue                                       \u001b[0m\u001b[1m \u001b[0m    │\n",
      "│  \u001b[3m                   \u001b[0m   ──────────────────────────────────────────────────────────────────────    │\n",
      "│  \u001b[3m                   \u001b[0m   \u001b[1m \u001b[0m\u001b[1mmetadata.python_class\u001b[0m\u001b[1m \u001b[0m \u001b[3m \u001b[0m\u001b[38;2;248;248;242;49m{\u001b[0m\u001b[3m                                           \u001b[0m\u001b[3m \u001b[0m    │\n",
      "│  \u001b[3m                   \u001b[0m   \u001b[1m                       \u001b[0m \u001b[3m \u001b[0m\u001b[38;2;248;248;242;49m  \u001b[0m\u001b[38;2;249;38;114;49m\"python_class\"\u001b[0m\u001b[38;2;248;248;242;49m:\u001b[0m\u001b[38;2;248;248;242;49m \u001b[0m\u001b[38;2;248;248;242;49m{\u001b[0m\u001b[3m                         \u001b[0m\u001b[3m \u001b[0m    │\n",
      "│  \u001b[3m                   \u001b[0m   \u001b[1m                       \u001b[0m \u001b[3m \u001b[0m\u001b[38;2;248;248;242;49m    \u001b[0m\u001b[38;2;249;38;114;49m\"python_class_name\"\u001b[0m\u001b[38;2;248;248;242;49m:\u001b[0m\u001b[38;2;248;248;242;49m \u001b[0m\u001b[38;2;230;219;116;49m\"KiaraTable\"\u001b[0m\u001b[38;2;248;248;242;49m,\u001b[0m\u001b[3m      \u001b[0m\u001b[3m \u001b[0m    │\n",
      "│  \u001b[3m                   \u001b[0m   \u001b[1m                       \u001b[0m \u001b[3m \u001b[0m\u001b[38;2;248;248;242;49m    \u001b[0m\u001b[38;2;249;38;114;49m\"python_module_name\"\u001b[0m\u001b[38;2;248;248;242;49m:\u001b[0m\u001b[38;2;248;248;242;49m \u001b[0m\u001b[38;2;230;219;116;49m\"kiara_plugin.tab…\u001b[0m\u001b[3m \u001b[0m    │\n",
      "│  \u001b[3m                   \u001b[0m   \u001b[1m                       \u001b[0m \u001b[3m \u001b[0m\u001b[38;2;248;248;242;49m    \u001b[0m\u001b[38;2;249;38;114;49m\"full_name\"\u001b[0m\u001b[38;2;248;248;242;49m:\u001b[0m\u001b[38;2;248;248;242;49m \u001b[0m\u001b[38;2;230;219;116;49m\"kiara_plugin.tabular.mode…\u001b[0m\u001b[3m \u001b[0m    │\n",
      "│  \u001b[3m                   \u001b[0m   \u001b[1m                       \u001b[0m \u001b[3m \u001b[0m\u001b[38;2;248;248;242;49m  \u001b[0m\u001b[38;2;248;248;242;49m}\u001b[0m\u001b[3m                                         \u001b[0m\u001b[3m \u001b[0m    │\n",
      "│  \u001b[3m                   \u001b[0m   \u001b[1m                       \u001b[0m \u001b[3m \u001b[0m\u001b[38;2;248;248;242;49m}\u001b[0m\u001b[3m                                           \u001b[0m\u001b[3m \u001b[0m    │\n",
      "│  \u001b[3m                   \u001b[0m   \u001b[1m \u001b[0m\u001b[1mmetadata.table       \u001b[0m\u001b[1m \u001b[0m \u001b[3m \u001b[0m\u001b[38;2;248;248;242;49m{\u001b[0m\u001b[3m                                           \u001b[0m\u001b[3m \u001b[0m    │\n",
      "│  \u001b[3m                   \u001b[0m   \u001b[1m                       \u001b[0m \u001b[3m \u001b[0m\u001b[38;2;248;248;242;49m  \u001b[0m\u001b[38;2;249;38;114;49m\"table\"\u001b[0m\u001b[38;2;248;248;242;49m:\u001b[0m\u001b[38;2;248;248;242;49m \u001b[0m\u001b[38;2;248;248;242;49m{\u001b[0m\u001b[3m                                \u001b[0m\u001b[3m \u001b[0m    │\n",
      "│  \u001b[3m                   \u001b[0m   \u001b[1m                       \u001b[0m \u001b[3m \u001b[0m\u001b[38;2;248;248;242;49m    \u001b[0m\u001b[38;2;249;38;114;49m\"column_names\"\u001b[0m\u001b[38;2;248;248;242;49m:\u001b[0m\u001b[38;2;248;248;242;49m \u001b[0m\u001b[38;2;248;248;242;49m[\u001b[0m\u001b[3m                       \u001b[0m\u001b[3m \u001b[0m    │\n",
      "│  \u001b[3m                   \u001b[0m   \u001b[1m                       \u001b[0m \u001b[3m \u001b[0m\u001b[38;2;248;248;242;49m      \u001b[0m\u001b[38;2;230;219;116;49m\"date\"\u001b[0m\u001b[38;2;248;248;242;49m,\u001b[0m\u001b[3m                               \u001b[0m\u001b[3m \u001b[0m    │\n",
      "│  \u001b[3m                   \u001b[0m   \u001b[1m                       \u001b[0m \u001b[3m \u001b[0m\u001b[38;2;248;248;242;49m      \u001b[0m\u001b[38;2;230;219;116;49m\"content\"\u001b[0m\u001b[38;2;248;248;242;49m,\u001b[0m\u001b[3m                            \u001b[0m\u001b[3m \u001b[0m    │\n",
      "│  \u001b[3m                   \u001b[0m   \u001b[1m                       \u001b[0m \u001b[3m \u001b[0m\u001b[38;2;248;248;242;49m      \u001b[0m\u001b[38;2;230;219;116;49m\"file_name\"\u001b[0m\u001b[3m                           \u001b[0m\u001b[3m \u001b[0m    │\n",
      "│  \u001b[3m                   \u001b[0m   \u001b[1m                       \u001b[0m \u001b[3m \u001b[0m\u001b[38;2;248;248;242;49m    \u001b[0m\u001b[38;2;248;248;242;49m],\u001b[0m\u001b[3m                                      \u001b[0m\u001b[3m \u001b[0m    │\n",
      "│  \u001b[3m                   \u001b[0m   \u001b[1m                       \u001b[0m \u001b[3m \u001b[0m\u001b[38;2;248;248;242;49m    \u001b[0m\u001b[38;2;249;38;114;49m\"column_schema\"\u001b[0m\u001b[38;2;248;248;242;49m:\u001b[0m\u001b[38;2;248;248;242;49m \u001b[0m\u001b[38;2;248;248;242;49m{\u001b[0m\u001b[3m                      \u001b[0m\u001b[3m \u001b[0m    │\n",
      "│  \u001b[3m                   \u001b[0m   \u001b[1m                       \u001b[0m \u001b[3m \u001b[0m\u001b[38;2;248;248;242;49m      \u001b[0m\u001b[38;2;249;38;114;49m\"date\"\u001b[0m\u001b[38;2;248;248;242;49m:\u001b[0m\u001b[38;2;248;248;242;49m \u001b[0m\u001b[38;2;248;248;242;49m{\u001b[0m\u001b[3m                             \u001b[0m\u001b[3m \u001b[0m    │\n",
      "│  \u001b[3m                   \u001b[0m   \u001b[1m                       \u001b[0m \u001b[3m \u001b[0m\u001b[38;2;248;248;242;49m        \u001b[0m\u001b[38;2;249;38;114;49m\"type_name\"\u001b[0m\u001b[38;2;248;248;242;49m:\u001b[0m\u001b[38;2;248;248;242;49m \u001b[0m\u001b[38;2;230;219;116;49m\"timestamp[us]\"\u001b[0m\u001b[38;2;248;248;242;49m,\u001b[0m\u001b[3m       \u001b[0m\u001b[3m \u001b[0m    │\n",
      "│  \u001b[3m                   \u001b[0m   \u001b[1m                       \u001b[0m \u001b[3m \u001b[0m\u001b[38;2;248;248;242;49m        \u001b[0m\u001b[38;2;249;38;114;49m\"metadata\"\u001b[0m\u001b[38;2;248;248;242;49m:\u001b[0m\u001b[38;2;248;248;242;49m \u001b[0m\u001b[38;2;248;248;242;49m{\u001b[0m\u001b[3m                       \u001b[0m\u001b[3m \u001b[0m    │\n",
      "│  \u001b[3m                   \u001b[0m   \u001b[1m                       \u001b[0m \u001b[3m \u001b[0m\u001b[38;2;248;248;242;49m          \u001b[0m\u001b[38;2;249;38;114;49m\"arrow_type_id\"\u001b[0m\u001b[38;2;248;248;242;49m:\u001b[0m\u001b[38;2;248;248;242;49m \u001b[0m\u001b[38;2;174;129;255;49m18\u001b[0m\u001b[3m               \u001b[0m\u001b[3m \u001b[0m    │\n",
      "│  \u001b[3m                   \u001b[0m   \u001b[1m                       \u001b[0m \u001b[3m \u001b[0m\u001b[38;2;248;248;242;49m        \u001b[0m\u001b[38;2;248;248;242;49m}\u001b[0m\u001b[3m                                   \u001b[0m\u001b[3m \u001b[0m    │\n",
      "│  \u001b[3m                   \u001b[0m   \u001b[1m                       \u001b[0m \u001b[3m \u001b[0m\u001b[38;2;248;248;242;49m      \u001b[0m\u001b[38;2;248;248;242;49m},\u001b[0m\u001b[3m                                    \u001b[0m\u001b[3m \u001b[0m    │\n",
      "│  \u001b[3m                   \u001b[0m   \u001b[1m                       \u001b[0m \u001b[3m \u001b[0m\u001b[38;2;248;248;242;49m      \u001b[0m\u001b[38;2;249;38;114;49m\"content\"\u001b[0m\u001b[38;2;248;248;242;49m:\u001b[0m\u001b[38;2;248;248;242;49m \u001b[0m\u001b[38;2;248;248;242;49m{\u001b[0m\u001b[3m                          \u001b[0m\u001b[3m \u001b[0m    │\n",
      "│  \u001b[3m                   \u001b[0m   \u001b[1m                       \u001b[0m \u001b[3m \u001b[0m\u001b[38;2;248;248;242;49m        \u001b[0m\u001b[38;2;249;38;114;49m\"type_name\"\u001b[0m\u001b[38;2;248;248;242;49m:\u001b[0m\u001b[38;2;248;248;242;49m \u001b[0m\u001b[38;2;230;219;116;49m\"string\"\u001b[0m\u001b[38;2;248;248;242;49m,\u001b[0m\u001b[3m              \u001b[0m\u001b[3m \u001b[0m    │\n",
      "│  \u001b[3m                   \u001b[0m   \u001b[1m                       \u001b[0m \u001b[3m \u001b[0m\u001b[38;2;248;248;242;49m        \u001b[0m\u001b[38;2;249;38;114;49m\"metadata\"\u001b[0m\u001b[38;2;248;248;242;49m:\u001b[0m\u001b[38;2;248;248;242;49m \u001b[0m\u001b[38;2;248;248;242;49m{\u001b[0m\u001b[3m                       \u001b[0m\u001b[3m \u001b[0m    │\n",
      "│  \u001b[3m                   \u001b[0m   \u001b[1m                       \u001b[0m \u001b[3m \u001b[0m\u001b[38;2;248;248;242;49m          \u001b[0m\u001b[38;2;249;38;114;49m\"arrow_type_id\"\u001b[0m\u001b[38;2;248;248;242;49m:\u001b[0m\u001b[38;2;248;248;242;49m \u001b[0m\u001b[38;2;174;129;255;49m13\u001b[0m\u001b[3m               \u001b[0m\u001b[3m \u001b[0m    │\n",
      "│  \u001b[3m                   \u001b[0m   \u001b[1m                       \u001b[0m \u001b[3m \u001b[0m\u001b[38;2;248;248;242;49m        \u001b[0m\u001b[38;2;248;248;242;49m}\u001b[0m\u001b[3m                                   \u001b[0m\u001b[3m \u001b[0m    │\n",
      "│  \u001b[3m                   \u001b[0m   \u001b[1m                       \u001b[0m \u001b[3m \u001b[0m\u001b[38;2;248;248;242;49m      \u001b[0m\u001b[38;2;248;248;242;49m},\u001b[0m\u001b[3m                                    \u001b[0m\u001b[3m \u001b[0m    │\n",
      "│  \u001b[3m                   \u001b[0m   \u001b[1m                       \u001b[0m \u001b[3m \u001b[0m\u001b[38;2;248;248;242;49m      \u001b[0m\u001b[38;2;249;38;114;49m\"file_name\"\u001b[0m\u001b[38;2;248;248;242;49m:\u001b[0m\u001b[38;2;248;248;242;49m \u001b[0m\u001b[38;2;248;248;242;49m{\u001b[0m\u001b[3m                        \u001b[0m\u001b[3m \u001b[0m    │\n",
      "│  \u001b[3m                   \u001b[0m   \u001b[1m                       \u001b[0m \u001b[3m \u001b[0m\u001b[38;2;248;248;242;49m        \u001b[0m\u001b[38;2;249;38;114;49m\"type_name\"\u001b[0m\u001b[38;2;248;248;242;49m:\u001b[0m\u001b[38;2;248;248;242;49m \u001b[0m\u001b[38;2;230;219;116;49m\"string\"\u001b[0m\u001b[38;2;248;248;242;49m,\u001b[0m\u001b[3m              \u001b[0m\u001b[3m \u001b[0m    │\n",
      "│  \u001b[3m                   \u001b[0m   \u001b[1m                       \u001b[0m \u001b[3m \u001b[0m\u001b[38;2;248;248;242;49m        \u001b[0m\u001b[38;2;249;38;114;49m\"metadata\"\u001b[0m\u001b[38;2;248;248;242;49m:\u001b[0m\u001b[38;2;248;248;242;49m \u001b[0m\u001b[38;2;248;248;242;49m{\u001b[0m\u001b[3m                       \u001b[0m\u001b[3m \u001b[0m    │\n",
      "│  \u001b[3m                   \u001b[0m   \u001b[1m                       \u001b[0m \u001b[3m \u001b[0m\u001b[38;2;248;248;242;49m          \u001b[0m\u001b[38;2;249;38;114;49m\"arrow_type_id\"\u001b[0m\u001b[38;2;248;248;242;49m:\u001b[0m\u001b[38;2;248;248;242;49m \u001b[0m\u001b[38;2;174;129;255;49m13\u001b[0m\u001b[3m               \u001b[0m\u001b[3m \u001b[0m    │\n",
      "│  \u001b[3m                   \u001b[0m   \u001b[1m                       \u001b[0m \u001b[3m \u001b[0m\u001b[38;2;248;248;242;49m        \u001b[0m\u001b[38;2;248;248;242;49m}\u001b[0m\u001b[3m                                   \u001b[0m\u001b[3m \u001b[0m    │\n",
      "│  \u001b[3m                   \u001b[0m   \u001b[1m                       \u001b[0m \u001b[3m \u001b[0m\u001b[38;2;248;248;242;49m      \u001b[0m\u001b[38;2;248;248;242;49m}\u001b[0m\u001b[3m                                     \u001b[0m\u001b[3m \u001b[0m    │\n",
      "│  \u001b[3m                   \u001b[0m   \u001b[1m                       \u001b[0m \u001b[3m \u001b[0m\u001b[38;2;248;248;242;49m    \u001b[0m\u001b[38;2;248;248;242;49m},\u001b[0m\u001b[3m                                      \u001b[0m\u001b[3m \u001b[0m    │\n",
      "│  \u001b[3m                   \u001b[0m   \u001b[1m                       \u001b[0m \u001b[3m \u001b[0m\u001b[38;2;248;248;242;49m    \u001b[0m\u001b[38;2;249;38;114;49m\"rows\"\u001b[0m\u001b[38;2;248;248;242;49m:\u001b[0m\u001b[38;2;248;248;242;49m \u001b[0m\u001b[38;2;174;129;255;49m16\u001b[0m\u001b[38;2;248;248;242;49m,\u001b[0m\u001b[3m                             \u001b[0m\u001b[3m \u001b[0m    │\n",
      "│  \u001b[3m                   \u001b[0m   \u001b[1m                       \u001b[0m \u001b[3m \u001b[0m\u001b[38;2;248;248;242;49m    \u001b[0m\u001b[38;2;249;38;114;49m\"size\"\u001b[0m\u001b[38;2;248;248;242;49m:\u001b[0m\u001b[38;2;248;248;242;49m \u001b[0m\u001b[38;2;174;129;255;49m299348\u001b[0m\u001b[3m                          \u001b[0m\u001b[3m \u001b[0m    │\n",
      "│  \u001b[3m                   \u001b[0m   \u001b[1m                       \u001b[0m \u001b[3m \u001b[0m\u001b[38;2;248;248;242;49m  \u001b[0m\u001b[38;2;248;248;242;49m}\u001b[0m\u001b[3m                                         \u001b[0m\u001b[3m \u001b[0m    │\n",
      "│  \u001b[3m                   \u001b[0m   \u001b[1m                       \u001b[0m \u001b[3m \u001b[0m\u001b[38;2;248;248;242;49m}\u001b[0m\u001b[3m                                           \u001b[0m\u001b[3m \u001b[0m    │\n",
      "│  \u001b[3m                   \u001b[0m                                                                             │\n",
      "│  \u001b[3m \u001b[0m\u001b[3mproperty_links   \u001b[0m\u001b[3m \u001b[0m  {                                                                          │\n",
      "│  \u001b[3m                   \u001b[0m    \"metadata.python_class\": \"48540b83-3fc4-47da-a186-94db1a8871b4\",         │\n",
      "│  \u001b[3m                   \u001b[0m    \"metadata.table\": \"5d0e6c1d-422c-4d84-b152-8284ff09bae7\"                 │\n",
      "│  \u001b[3m                   \u001b[0m  }                                                                          │\n",
      "│  \u001b[3m \u001b[0m\u001b[3mvalue_hash       \u001b[0m\u001b[3m \u001b[0m  zdpuAxPin6TsfMCtxHYfmPXujaY8AqcLgKG87vHrmfYKbvRbv                          │\n",
      "│  \u001b[3m \u001b[0m\u001b[3mvalue_schema     \u001b[0m\u001b[3m \u001b[0m                                                                             │\n",
      "│  \u001b[3m                   \u001b[0m   \u001b[3m \u001b[0m\u001b[3mtype       \u001b[0m\u001b[3m \u001b[0m  table                                                      │\n",
      "│  \u001b[3m                   \u001b[0m   \u001b[3m \u001b[0m\u001b[3mtype_config\u001b[0m\u001b[3m \u001b[0m  {}                                                         │\n",
      "│  \u001b[3m                   \u001b[0m   \u001b[3m \u001b[0m\u001b[3mdefault    \u001b[0m\u001b[3m \u001b[0m  __not_set__                                                │\n",
      "│  \u001b[3m                   \u001b[0m   \u001b[3m \u001b[0m\u001b[3moptional   \u001b[0m\u001b[3m \u001b[0m  False                                                      │\n",
      "│  \u001b[3m                   \u001b[0m   \u001b[3m \u001b[0m\u001b[3mis_constant\u001b[0m\u001b[3m \u001b[0m  False                                                      │\n",
      "│  \u001b[3m                   \u001b[0m   \u001b[3m \u001b[0m\u001b[3mdoc        \u001b[0m\u001b[3m \u001b[0m  The merged table, including all source tables and          │\n",
      "│  \u001b[3m                   \u001b[0m   \u001b[3m             \u001b[0m  columns.                                                   │\n",
      "│  \u001b[3m                   \u001b[0m                                                                             │\n",
      "│  \u001b[3m \u001b[0m\u001b[3mvalue_size       \u001b[0m\u001b[3m \u001b[0m  300.77 KB                                                                  │\n",
      "│  \u001b[3m \u001b[0m\u001b[3mvalue_status     \u001b[0m\u001b[3m \u001b[0m  \u001b[3m-- set --\u001b[0m                                                                  │\n",
      "│  \u001b[3m \u001b[0m\u001b[3m                 \u001b[0m\u001b[3m \u001b[0m                                                                             │\n",
      "│  \u001b[3m \u001b[0m\u001b[3m                 \u001b[0m\u001b[3m \u001b[0m  \u001b[92m────────────────────────────────────────────────────────────────────────\u001b[0m   │\n",
      "│  \u001b[3m \u001b[0m\u001b[3m                 \u001b[0m\u001b[3m \u001b[0m                                                                             │\n",
      "│  \u001b[3m \u001b[0m\u001b[3mproperties       \u001b[0m\u001b[3m \u001b[0m                                                                             │\n",
      "│  \u001b[3m                   \u001b[0m   \u001b[1m \u001b[0m\u001b[1mmetadata.python_class\u001b[0m\u001b[1m \u001b[0m \u001b[3m \u001b[0m\u001b[38;2;248;248;242;49m{\u001b[0m\u001b[3m                                           \u001b[0m\u001b[3m \u001b[0m    │\n",
      "│  \u001b[3m                   \u001b[0m   \u001b[1m                       \u001b[0m \u001b[3m \u001b[0m\u001b[38;2;248;248;242;49m  \u001b[0m\u001b[38;2;249;38;114;49m\"python_class\"\u001b[0m\u001b[38;2;248;248;242;49m:\u001b[0m\u001b[38;2;248;248;242;49m \u001b[0m\u001b[38;2;248;248;242;49m{\u001b[0m\u001b[3m                         \u001b[0m\u001b[3m \u001b[0m    │\n",
      "│  \u001b[3m                   \u001b[0m   \u001b[1m                       \u001b[0m \u001b[3m \u001b[0m\u001b[38;2;248;248;242;49m    \u001b[0m\u001b[38;2;249;38;114;49m\"python_class_name\"\u001b[0m\u001b[38;2;248;248;242;49m:\u001b[0m\u001b[38;2;248;248;242;49m \u001b[0m\u001b[38;2;230;219;116;49m\"KiaraTable\"\u001b[0m\u001b[38;2;248;248;242;49m,\u001b[0m\u001b[3m      \u001b[0m\u001b[3m \u001b[0m    │\n",
      "│  \u001b[3m                   \u001b[0m   \u001b[1m                       \u001b[0m \u001b[3m \u001b[0m\u001b[38;2;248;248;242;49m    \u001b[0m\u001b[38;2;249;38;114;49m\"python_module_name\"\u001b[0m\u001b[38;2;248;248;242;49m:\u001b[0m\u001b[38;2;248;248;242;49m \u001b[0m\u001b[38;2;230;219;116;49m\"kiara_plugin.tab…\u001b[0m\u001b[3m \u001b[0m    │\n",
      "│  \u001b[3m                   \u001b[0m   \u001b[1m                       \u001b[0m \u001b[3m \u001b[0m\u001b[38;2;248;248;242;49m    \u001b[0m\u001b[38;2;249;38;114;49m\"full_name\"\u001b[0m\u001b[38;2;248;248;242;49m:\u001b[0m\u001b[38;2;248;248;242;49m \u001b[0m\u001b[38;2;230;219;116;49m\"kiara_plugin.tabular.mode…\u001b[0m\u001b[3m \u001b[0m    │\n",
      "│  \u001b[3m                   \u001b[0m   \u001b[1m                       \u001b[0m \u001b[3m \u001b[0m\u001b[38;2;248;248;242;49m  \u001b[0m\u001b[38;2;248;248;242;49m}\u001b[0m\u001b[3m                                         \u001b[0m\u001b[3m \u001b[0m    │\n",
      "│  \u001b[3m                   \u001b[0m   \u001b[1m                       \u001b[0m \u001b[3m \u001b[0m\u001b[38;2;248;248;242;49m}\u001b[0m\u001b[3m                                           \u001b[0m\u001b[3m \u001b[0m    │\n",
      "│  \u001b[3m                   \u001b[0m   \u001b[1m \u001b[0m\u001b[1mmetadata.table       \u001b[0m\u001b[1m \u001b[0m \u001b[3m \u001b[0m\u001b[38;2;248;248;242;49m{\u001b[0m\u001b[3m                                           \u001b[0m\u001b[3m \u001b[0m    │\n",
      "│  \u001b[3m                   \u001b[0m   \u001b[1m                       \u001b[0m \u001b[3m \u001b[0m\u001b[38;2;248;248;242;49m  \u001b[0m\u001b[38;2;249;38;114;49m\"table\"\u001b[0m\u001b[38;2;248;248;242;49m:\u001b[0m\u001b[38;2;248;248;242;49m \u001b[0m\u001b[38;2;248;248;242;49m{\u001b[0m\u001b[3m                                \u001b[0m\u001b[3m \u001b[0m    │\n",
      "│  \u001b[3m                   \u001b[0m   \u001b[1m                       \u001b[0m \u001b[3m \u001b[0m\u001b[38;2;248;248;242;49m    \u001b[0m\u001b[38;2;249;38;114;49m\"column_names\"\u001b[0m\u001b[38;2;248;248;242;49m:\u001b[0m\u001b[38;2;248;248;242;49m \u001b[0m\u001b[38;2;248;248;242;49m[\u001b[0m\u001b[3m                       \u001b[0m\u001b[3m \u001b[0m    │\n",
      "│  \u001b[3m                   \u001b[0m   \u001b[1m                       \u001b[0m \u001b[3m \u001b[0m\u001b[38;2;248;248;242;49m      \u001b[0m\u001b[38;2;230;219;116;49m\"date\"\u001b[0m\u001b[38;2;248;248;242;49m,\u001b[0m\u001b[3m                               \u001b[0m\u001b[3m \u001b[0m    │\n",
      "│  \u001b[3m                   \u001b[0m   \u001b[1m                       \u001b[0m \u001b[3m \u001b[0m\u001b[38;2;248;248;242;49m      \u001b[0m\u001b[38;2;230;219;116;49m\"content\"\u001b[0m\u001b[38;2;248;248;242;49m,\u001b[0m\u001b[3m                            \u001b[0m\u001b[3m \u001b[0m    │\n",
      "│  \u001b[3m                   \u001b[0m   \u001b[1m                       \u001b[0m \u001b[3m \u001b[0m\u001b[38;2;248;248;242;49m      \u001b[0m\u001b[38;2;230;219;116;49m\"file_name\"\u001b[0m\u001b[3m                           \u001b[0m\u001b[3m \u001b[0m    │\n",
      "│  \u001b[3m                   \u001b[0m   \u001b[1m                       \u001b[0m \u001b[3m \u001b[0m\u001b[38;2;248;248;242;49m    \u001b[0m\u001b[38;2;248;248;242;49m],\u001b[0m\u001b[3m                                      \u001b[0m\u001b[3m \u001b[0m    │\n",
      "│  \u001b[3m                   \u001b[0m   \u001b[1m                       \u001b[0m \u001b[3m \u001b[0m\u001b[38;2;248;248;242;49m    \u001b[0m\u001b[38;2;249;38;114;49m\"column_schema\"\u001b[0m\u001b[38;2;248;248;242;49m:\u001b[0m\u001b[38;2;248;248;242;49m \u001b[0m\u001b[38;2;248;248;242;49m{\u001b[0m\u001b[3m                      \u001b[0m\u001b[3m \u001b[0m    │\n",
      "│  \u001b[3m                   \u001b[0m   \u001b[1m                       \u001b[0m \u001b[3m \u001b[0m\u001b[38;2;248;248;242;49m      \u001b[0m\u001b[38;2;249;38;114;49m\"date\"\u001b[0m\u001b[38;2;248;248;242;49m:\u001b[0m\u001b[38;2;248;248;242;49m \u001b[0m\u001b[38;2;248;248;242;49m{\u001b[0m\u001b[3m                             \u001b[0m\u001b[3m \u001b[0m    │\n",
      "│  \u001b[3m                   \u001b[0m   \u001b[1m                       \u001b[0m \u001b[3m \u001b[0m\u001b[38;2;248;248;242;49m        \u001b[0m\u001b[38;2;249;38;114;49m\"type_name\"\u001b[0m\u001b[38;2;248;248;242;49m:\u001b[0m\u001b[38;2;248;248;242;49m \u001b[0m\u001b[38;2;230;219;116;49m\"timestamp[us]\"\u001b[0m\u001b[38;2;248;248;242;49m,\u001b[0m\u001b[3m       \u001b[0m\u001b[3m \u001b[0m    │\n",
      "│  \u001b[3m                   \u001b[0m   \u001b[1m                       \u001b[0m \u001b[3m \u001b[0m\u001b[38;2;248;248;242;49m        \u001b[0m\u001b[38;2;249;38;114;49m\"metadata\"\u001b[0m\u001b[38;2;248;248;242;49m:\u001b[0m\u001b[38;2;248;248;242;49m \u001b[0m\u001b[38;2;248;248;242;49m{\u001b[0m\u001b[3m                       \u001b[0m\u001b[3m \u001b[0m    │\n",
      "│  \u001b[3m                   \u001b[0m   \u001b[1m                       \u001b[0m \u001b[3m \u001b[0m\u001b[38;2;248;248;242;49m          \u001b[0m\u001b[38;2;249;38;114;49m\"arrow_type_id\"\u001b[0m\u001b[38;2;248;248;242;49m:\u001b[0m\u001b[38;2;248;248;242;49m \u001b[0m\u001b[38;2;174;129;255;49m18\u001b[0m\u001b[3m               \u001b[0m\u001b[3m \u001b[0m    │\n",
      "│  \u001b[3m                   \u001b[0m   \u001b[1m                       \u001b[0m \u001b[3m \u001b[0m\u001b[38;2;248;248;242;49m        \u001b[0m\u001b[38;2;248;248;242;49m}\u001b[0m\u001b[3m                                   \u001b[0m\u001b[3m \u001b[0m    │\n",
      "│  \u001b[3m                   \u001b[0m   \u001b[1m                       \u001b[0m \u001b[3m \u001b[0m\u001b[38;2;248;248;242;49m      \u001b[0m\u001b[38;2;248;248;242;49m},\u001b[0m\u001b[3m                                    \u001b[0m\u001b[3m \u001b[0m    │\n",
      "│  \u001b[3m                   \u001b[0m   \u001b[1m                       \u001b[0m \u001b[3m \u001b[0m\u001b[38;2;248;248;242;49m      \u001b[0m\u001b[38;2;249;38;114;49m\"content\"\u001b[0m\u001b[38;2;248;248;242;49m:\u001b[0m\u001b[38;2;248;248;242;49m \u001b[0m\u001b[38;2;248;248;242;49m{\u001b[0m\u001b[3m                          \u001b[0m\u001b[3m \u001b[0m    │\n",
      "│  \u001b[3m                   \u001b[0m   \u001b[1m                       \u001b[0m \u001b[3m \u001b[0m\u001b[38;2;248;248;242;49m        \u001b[0m\u001b[38;2;249;38;114;49m\"type_name\"\u001b[0m\u001b[38;2;248;248;242;49m:\u001b[0m\u001b[38;2;248;248;242;49m \u001b[0m\u001b[38;2;230;219;116;49m\"string\"\u001b[0m\u001b[38;2;248;248;242;49m,\u001b[0m\u001b[3m              \u001b[0m\u001b[3m \u001b[0m    │\n",
      "│  \u001b[3m                   \u001b[0m   \u001b[1m                       \u001b[0m \u001b[3m \u001b[0m\u001b[38;2;248;248;242;49m        \u001b[0m\u001b[38;2;249;38;114;49m\"metadata\"\u001b[0m\u001b[38;2;248;248;242;49m:\u001b[0m\u001b[38;2;248;248;242;49m \u001b[0m\u001b[38;2;248;248;242;49m{\u001b[0m\u001b[3m                       \u001b[0m\u001b[3m \u001b[0m    │\n",
      "│  \u001b[3m                   \u001b[0m   \u001b[1m                       \u001b[0m \u001b[3m \u001b[0m\u001b[38;2;248;248;242;49m          \u001b[0m\u001b[38;2;249;38;114;49m\"arrow_type_id\"\u001b[0m\u001b[38;2;248;248;242;49m:\u001b[0m\u001b[38;2;248;248;242;49m \u001b[0m\u001b[38;2;174;129;255;49m13\u001b[0m\u001b[3m               \u001b[0m\u001b[3m \u001b[0m    │\n",
      "│  \u001b[3m                   \u001b[0m   \u001b[1m                       \u001b[0m \u001b[3m \u001b[0m\u001b[38;2;248;248;242;49m        \u001b[0m\u001b[38;2;248;248;242;49m}\u001b[0m\u001b[3m                                   \u001b[0m\u001b[3m \u001b[0m    │\n",
      "│  \u001b[3m                   \u001b[0m   \u001b[1m                       \u001b[0m \u001b[3m \u001b[0m\u001b[38;2;248;248;242;49m      \u001b[0m\u001b[38;2;248;248;242;49m},\u001b[0m\u001b[3m                                    \u001b[0m\u001b[3m \u001b[0m    │\n",
      "│  \u001b[3m                   \u001b[0m   \u001b[1m                       \u001b[0m \u001b[3m \u001b[0m\u001b[38;2;248;248;242;49m      \u001b[0m\u001b[38;2;249;38;114;49m\"file_name\"\u001b[0m\u001b[38;2;248;248;242;49m:\u001b[0m\u001b[38;2;248;248;242;49m \u001b[0m\u001b[38;2;248;248;242;49m{\u001b[0m\u001b[3m                        \u001b[0m\u001b[3m \u001b[0m    │\n",
      "│  \u001b[3m                   \u001b[0m   \u001b[1m                       \u001b[0m \u001b[3m \u001b[0m\u001b[38;2;248;248;242;49m        \u001b[0m\u001b[38;2;249;38;114;49m\"type_name\"\u001b[0m\u001b[38;2;248;248;242;49m:\u001b[0m\u001b[38;2;248;248;242;49m \u001b[0m\u001b[38;2;230;219;116;49m\"string\"\u001b[0m\u001b[38;2;248;248;242;49m,\u001b[0m\u001b[3m              \u001b[0m\u001b[3m \u001b[0m    │\n",
      "│  \u001b[3m                   \u001b[0m   \u001b[1m                       \u001b[0m \u001b[3m \u001b[0m\u001b[38;2;248;248;242;49m        \u001b[0m\u001b[38;2;249;38;114;49m\"metadata\"\u001b[0m\u001b[38;2;248;248;242;49m:\u001b[0m\u001b[38;2;248;248;242;49m \u001b[0m\u001b[38;2;248;248;242;49m{\u001b[0m\u001b[3m                       \u001b[0m\u001b[3m \u001b[0m    │\n",
      "│  \u001b[3m                   \u001b[0m   \u001b[1m                       \u001b[0m \u001b[3m \u001b[0m\u001b[38;2;248;248;242;49m          \u001b[0m\u001b[38;2;249;38;114;49m\"arrow_type_id\"\u001b[0m\u001b[38;2;248;248;242;49m:\u001b[0m\u001b[38;2;248;248;242;49m \u001b[0m\u001b[38;2;174;129;255;49m13\u001b[0m\u001b[3m               \u001b[0m\u001b[3m \u001b[0m    │\n",
      "│  \u001b[3m                   \u001b[0m   \u001b[1m                       \u001b[0m \u001b[3m \u001b[0m\u001b[38;2;248;248;242;49m        \u001b[0m\u001b[38;2;248;248;242;49m}\u001b[0m\u001b[3m                                   \u001b[0m\u001b[3m \u001b[0m    │\n",
      "│  \u001b[3m                   \u001b[0m   \u001b[1m                       \u001b[0m \u001b[3m \u001b[0m\u001b[38;2;248;248;242;49m      \u001b[0m\u001b[38;2;248;248;242;49m}\u001b[0m\u001b[3m                                     \u001b[0m\u001b[3m \u001b[0m    │\n",
      "│  \u001b[3m                   \u001b[0m   \u001b[1m                       \u001b[0m \u001b[3m \u001b[0m\u001b[38;2;248;248;242;49m    \u001b[0m\u001b[38;2;248;248;242;49m},\u001b[0m\u001b[3m                                      \u001b[0m\u001b[3m \u001b[0m    │\n",
      "│  \u001b[3m                   \u001b[0m   \u001b[1m                       \u001b[0m \u001b[3m \u001b[0m\u001b[38;2;248;248;242;49m    \u001b[0m\u001b[38;2;249;38;114;49m\"rows\"\u001b[0m\u001b[38;2;248;248;242;49m:\u001b[0m\u001b[38;2;248;248;242;49m \u001b[0m\u001b[38;2;174;129;255;49m16\u001b[0m\u001b[38;2;248;248;242;49m,\u001b[0m\u001b[3m                             \u001b[0m\u001b[3m \u001b[0m    │\n",
      "│  \u001b[3m                   \u001b[0m   \u001b[1m                       \u001b[0m \u001b[3m \u001b[0m\u001b[38;2;248;248;242;49m    \u001b[0m\u001b[38;2;249;38;114;49m\"size\"\u001b[0m\u001b[38;2;248;248;242;49m:\u001b[0m\u001b[38;2;248;248;242;49m \u001b[0m\u001b[38;2;174;129;255;49m299348\u001b[0m\u001b[3m                          \u001b[0m\u001b[3m \u001b[0m    │\n",
      "│  \u001b[3m                   \u001b[0m   \u001b[1m                       \u001b[0m \u001b[3m \u001b[0m\u001b[38;2;248;248;242;49m  \u001b[0m\u001b[38;2;248;248;242;49m}\u001b[0m\u001b[3m                                         \u001b[0m\u001b[3m \u001b[0m    │\n",
      "│  \u001b[3m                   \u001b[0m   \u001b[1m                       \u001b[0m \u001b[3m \u001b[0m\u001b[38;2;248;248;242;49m}\u001b[0m\u001b[3m                                           \u001b[0m\u001b[3m \u001b[0m    │\n",
      "│  \u001b[3m                   \u001b[0m                                                                             │\n",
      "│                                                                                                  │\n",
      "╰──────────────────────────────────────────────────────────────────────────────────────────────────╯\n"
     ]
    }
   ],
   "source": [
    "! kiara data explain --properties corpus_import.merged_table"
   ]
  },
  {
   "cell_type": "code",
   "execution_count": 14,
   "id": "7597653b",
   "metadata": {
    "collapsed": false,
    "jupyter": {
     "outputs_hidden": false
    },
    "slideshow": {
     "slide_type": "slide"
    },
    "tags": []
   },
   "outputs": [
    {
     "name": "stdout",
     "output_type": "stream",
     "text": [
      "\n",
      "╭─ Value details for: \u001b[1;3mcorpus_import.merged_table\u001b[0m ──────────────────────────────────────────────────╮\n",
      "│                                                                                                  │\n",
      "│  \u001b[3m \u001b[0m\u001b[3mvalue_id         \u001b[0m\u001b[3m \u001b[0m  64865d23-f456-4fa4-b455-e96108e3cb98                                       │\n",
      "│  \u001b[3m \u001b[0m\u001b[3mkiara_id         \u001b[0m\u001b[3m \u001b[0m  aad63fe4-b488-421e-8bbc-d97e8571870b                                       │\n",
      "│  \u001b[3m \u001b[0m\u001b[3m                 \u001b[0m\u001b[3m \u001b[0m                                                                             │\n",
      "│  \u001b[3m \u001b[0m\u001b[3m                 \u001b[0m\u001b[3m \u001b[0m  \u001b[92m────────────────────────────────────────────────────────────────────────\u001b[0m   │\n",
      "│  \u001b[3m \u001b[0m\u001b[3mdata_type_info   \u001b[0m\u001b[3m \u001b[0m                                                                             │\n",
      "│  \u001b[3m                   \u001b[0m   \u001b[3m \u001b[0m\u001b[3mdata_type_name  \u001b[0m\u001b[3m \u001b[0m  table                                                 │\n",
      "│  \u001b[3m                   \u001b[0m   \u001b[3m \u001b[0m\u001b[3mdata_type_config\u001b[0m\u001b[3m \u001b[0m  {}                                                    │\n",
      "│  \u001b[3m                   \u001b[0m   \u001b[3m \u001b[0m\u001b[3mcharacteristics \u001b[0m\u001b[3m \u001b[0m  {                                                     │\n",
      "│  \u001b[3m                   \u001b[0m   \u001b[3m                  \u001b[0m    \"is_scalar\": false,                                 │\n",
      "│  \u001b[3m                   \u001b[0m   \u001b[3m                  \u001b[0m    \"is_json_serializable\": false                       │\n",
      "│  \u001b[3m                   \u001b[0m   \u001b[3m                  \u001b[0m  }                                                     │\n",
      "│  \u001b[3m                   \u001b[0m   \u001b[3m \u001b[0m\u001b[3mdata_type_class \u001b[0m\u001b[3m \u001b[0m                                                        │\n",
      "│  \u001b[3m                   \u001b[0m   \u001b[3m                  \u001b[0m   \u001b[3m \u001b[0m\u001b[3mpython_class_name \u001b[0m\u001b[3m \u001b[0m  TableType                      │\n",
      "│  \u001b[3m                   \u001b[0m   \u001b[3m                  \u001b[0m   \u001b[3m \u001b[0m\u001b[3mpython_module_name\u001b[0m\u001b[3m \u001b[0m  kiara_plugin.tabular.da…       │\n",
      "│  \u001b[3m                   \u001b[0m   \u001b[3m                  \u001b[0m   \u001b[3m \u001b[0m\u001b[3mfull_name         \u001b[0m\u001b[3m \u001b[0m  kiara_plugin.tabular.da…       │\n",
      "│  \u001b[3m                   \u001b[0m   \u001b[3m                  \u001b[0m                                                        │\n",
      "│  \u001b[3m                   \u001b[0m                                                                             │\n",
      "│  \u001b[3m \u001b[0m\u001b[3mdestiny_backlinks\u001b[0m\u001b[3m \u001b[0m  {}                                                                         │\n",
      "│  \u001b[3m \u001b[0m\u001b[3menviroments      \u001b[0m\u001b[3m \u001b[0m  None                                                                       │\n",
      "│  \u001b[3m \u001b[0m\u001b[3mproperty_links   \u001b[0m\u001b[3m \u001b[0m  {                                                                          │\n",
      "│  \u001b[3m                   \u001b[0m    \"metadata.python_class\": \"48540b83-3fc4-47da-a186-94db1a8871b4\",         │\n",
      "│  \u001b[3m                   \u001b[0m    \"metadata.table\": \"5d0e6c1d-422c-4d84-b152-8284ff09bae7\"                 │\n",
      "│  \u001b[3m                   \u001b[0m  }                                                                          │\n",
      "│  \u001b[3m \u001b[0m\u001b[3mvalue_hash       \u001b[0m\u001b[3m \u001b[0m  zdpuAxPin6TsfMCtxHYfmPXujaY8AqcLgKG87vHrmfYKbvRbv                          │\n",
      "│  \u001b[3m \u001b[0m\u001b[3mvalue_schema     \u001b[0m\u001b[3m \u001b[0m                                                                             │\n",
      "│  \u001b[3m                   \u001b[0m   \u001b[3m \u001b[0m\u001b[3mtype       \u001b[0m\u001b[3m \u001b[0m  table                                                      │\n",
      "│  \u001b[3m                   \u001b[0m   \u001b[3m \u001b[0m\u001b[3mtype_config\u001b[0m\u001b[3m \u001b[0m  {}                                                         │\n",
      "│  \u001b[3m                   \u001b[0m   \u001b[3m \u001b[0m\u001b[3mdefault    \u001b[0m\u001b[3m \u001b[0m  __not_set__                                                │\n",
      "│  \u001b[3m                   \u001b[0m   \u001b[3m \u001b[0m\u001b[3moptional   \u001b[0m\u001b[3m \u001b[0m  False                                                      │\n",
      "│  \u001b[3m                   \u001b[0m   \u001b[3m \u001b[0m\u001b[3mis_constant\u001b[0m\u001b[3m \u001b[0m  False                                                      │\n",
      "│  \u001b[3m                   \u001b[0m   \u001b[3m \u001b[0m\u001b[3mdoc        \u001b[0m\u001b[3m \u001b[0m  The merged table, including all source tables and          │\n",
      "│  \u001b[3m                   \u001b[0m   \u001b[3m             \u001b[0m  columns.                                                   │\n",
      "│  \u001b[3m                   \u001b[0m                                                                             │\n",
      "│  \u001b[3m \u001b[0m\u001b[3mvalue_size       \u001b[0m\u001b[3m \u001b[0m  300.77 KB                                                                  │\n",
      "│  \u001b[3m \u001b[0m\u001b[3mvalue_status     \u001b[0m\u001b[3m \u001b[0m  \u001b[3m-- set --\u001b[0m                                                                  │\n",
      "│  \u001b[3m \u001b[0m\u001b[3m                 \u001b[0m\u001b[3m \u001b[0m                                                                             │\n",
      "│  \u001b[3m \u001b[0m\u001b[3m                 \u001b[0m\u001b[3m \u001b[0m  \u001b[92m────────────────────────────────────────────────────────────────────────\u001b[0m   │\n",
      "│  \u001b[3m \u001b[0m\u001b[3m                 \u001b[0m\u001b[3m \u001b[0m                                                                             │\n",
      "│  \u001b[3m \u001b[0m\u001b[3mlineage          \u001b[0m\u001b[3m \u001b[0m  \u001b[1;32mtable.merge\u001b[0m                                                                │\n",
      "│  \u001b[3m                   \u001b[0m  ├── input: \u001b[3;32mdate_array (array)\u001b[0m = 81d371a2-312b-4480-9c8e-4eff9cb7a94a       │\n",
      "│  \u001b[3m                   \u001b[0m  │   └── \u001b[1;34mparse.date_array\u001b[0m                                                   │\n",
      "│  \u001b[3m                   \u001b[0m  │       ├── input: \u001b[3;34marray (array)\u001b[0m = 99665288-9986-40f4-85ea-b69275dfd4cf    │\n",
      "│  \u001b[3m                   \u001b[0m  │       │   └── \u001b[1;95mtable.cut_column\u001b[0m                                           │\n",
      "│  \u001b[3m                   \u001b[0m  │       │       └── input: \u001b[3;95mtable (table)\u001b[0m =                                 │\n",
      "│  \u001b[3m                   \u001b[0m  │       │           5c7e7a25-438b-46e1-a6b2-8904c184e3a1                   │\n",
      "│  \u001b[3m                   \u001b[0m  │       │           └── \u001b[1;38;5;88mcreate.table\u001b[0m                                       │\n",
      "│  \u001b[3m                   \u001b[0m  │       │               └── input: \u001b[3;38;5;88mtext_file_bundle (file_bundle)\u001b[0m =        │\n",
      "│  \u001b[3m                   \u001b[0m  │       │                   f1a1ad71-98fc-4d22-bf53-13aaf3321ea9           │\n",
      "│  \u001b[3m                   \u001b[0m  │       │                   └── \u001b[1;38;5;178mimport.file_bundle\u001b[0m                         │\n",
      "│  \u001b[3m                   \u001b[0m  │       │                       └── input: \u001b[3;38;5;178mpath (string)\u001b[0m =                 │\n",
      "│  \u001b[3m                   \u001b[0m  │       │                           0f4e857f-a1e9-435a-9990-2ca43ebdb35e   │\n",
      "│  \u001b[3m                   \u001b[0m  │       ├── input: \u001b[3;34mforce_non_null (boolean)\u001b[0m =                              │\n",
      "│  \u001b[3m                   \u001b[0m  │       │   b1af6b59-fec5-4671-a10d-a6a95a1e2b54                           │\n",
      "│  \u001b[3m                   \u001b[0m  │       ├── input: \u001b[3;34mmax_index (integer)\u001b[0m =                                   │\n",
      "│  \u001b[3m                   \u001b[0m  │       │   c623953a-b29a-4eec-9496-3a12417042f2                           │\n",
      "│  \u001b[3m                   \u001b[0m  │       ├── input: \u001b[3;34mmin_index (integer)\u001b[0m =                                   │\n",
      "│  \u001b[3m                   \u001b[0m  │       │   507c7349-b35c-454d-83aa-b451fa664b5f                           │\n",
      "│  \u001b[3m                   \u001b[0m  │       └── input: \u001b[3;34mremove_tokens (list)\u001b[0m =                                  │\n",
      "│  \u001b[3m                   \u001b[0m  │           6e7426b2-b3a6-490f-9444-5ac30b3967c4                           │\n",
      "│  \u001b[3m                   \u001b[0m  └── input: \u001b[3;32msource_table (table)\u001b[0m = 5c7e7a25-438b-46e1-a6b2-8904c184e3a1     │\n",
      "│  \u001b[3m                   \u001b[0m      └── \u001b[1;34mcreate.table\u001b[0m                                                       │\n",
      "│  \u001b[3m                   \u001b[0m          └── input: \u001b[3;34mtext_file_bundle (file_bundle)\u001b[0m =                        │\n",
      "│  \u001b[3m                   \u001b[0m              f1a1ad71-98fc-4d22-bf53-13aaf3321ea9                           │\n",
      "│  \u001b[3m                   \u001b[0m              └── \u001b[1;95mimport.file_bundle\u001b[0m                                         │\n",
      "│  \u001b[3m                   \u001b[0m                  └── input: \u001b[3;95mpath (string)\u001b[0m =                                 │\n",
      "│  \u001b[3m                   \u001b[0m                      0f4e857f-a1e9-435a-9990-2ca43ebdb35e                   │\n",
      "│                                                                                                  │\n",
      "╰──────────────────────────────────────────────────────────────────────────────────────────────────╯\n"
     ]
    }
   ],
   "source": [
    "! kiara data explain --lineage corpus_import.merged_table\n"
   ]
  },
  {
   "cell_type": "code",
   "execution_count": 15,
   "id": "feab6432",
   "metadata": {
    "collapsed": false,
    "jupyter": {
     "outputs_hidden": false
    },
    "slideshow": {
     "slide_type": "slide"
    },
    "tags": []
   },
   "outputs": [
    {
     "name": "stdout",
     "output_type": "stream",
     "text": [
      "                                                                                                    \n",
      " \u001b[1m \u001b[0m\u001b[1mdate\u001b[0m\u001b[1m               \u001b[0m\u001b[1m \u001b[0m \u001b[1m \u001b[0m\u001b[1mcontent\u001b[0m\u001b[1m                             \u001b[0m\u001b[1m \u001b[0m \u001b[1m \u001b[0m\u001b[1mfile_name\u001b[0m\u001b[1m                          \u001b[0m\u001b[1m \u001b[0m \n",
      " ────────────────────────────────────────────────────────────────────────────────────────────────── \n",
      "  1917-04-25 00:00:00   LA RAGIONE                             sn84037024_1917-04-25_ed-1_seq-1_oc  \n",
      "  1917-04-25 00:00:00   LA RAG ONE                             sn84037024_1917-04-25_ed-2_seq-1_oc  \n",
      "  1917-04-25 00:00:00   LA RAGIONE                             sn84037024_1917-04-25_ed-3_seq-1_oc  \n",
      "  1917-04-25 00:00:00   contro i vili, i camorristi, i sicar   sn84037024_1917-04-25_ed-4_seq-1_oc  \n",
      "  1917-05-05 00:00:00   contro i vili, i camorristi, i sicar   sn84037024_1917-05-05_ed-1_seq-1_oc  \n",
      "  1917-05-05 00:00:00   LA RAGIONA                             sn84037024_1917-05-05_ed-2_seq-1_oc  \n",
      "  1917-05-05 00:00:00   LA RAGIONE                             sn84037024_1917-05-05_ed-3_seq-1_oc  \n",
      "  1917-05-05 00:00:00   LA RAGIONE                             sn84037024_1917-05-05_ed-4_seq-1_oc  \n",
      "  1917-05-16 00:00:00   contro i vili, i camorristi, i sicar   sn84037024_1917-05-16_ed-1_seq-1_oc  \n",
      "  1917-05-16 00:00:00   LA RAG ONE                             sn84037024_1917-05-16_ed-2_seq-1_oc  \n",
      "  1917-05-16 00:00:00   contro 1 vili, i camorristi, i sicar   sn84037024_1917-05-16_ed-3_seq-1_oc  \n",
      "  1917-04-07 00:00:00   ■■■                                    sn84037025_1917-04-07_ed-1_seq-1_oc  \n",
      "  1917-04-14 00:00:00   La Rassegna                            sn84037025_1917-04-14_ed-1_seq-1_oc  \n",
      "  1917-04-14 00:00:00   Both Phones                            sn84037025_1917-04-14_ed-2_seq-1_oc  \n",
      "  1917-04-21 00:00:00   ■ jSrìt** W?? iIK 38®f- i^M            sn84037025_1917-04-21_ed-1_seq-1_oc  \n",
      "  1917-04-21 00:00:00   ■Both Phones                           sn84037025_1917-04-21_ed-2_seq-1_oc  \n",
      "                                                                                                    \n"
     ]
    }
   ],
   "source": [
    "! kiara data load -s corpus_import.merged_table\n"
   ]
  },
  {
   "cell_type": "markdown",
   "id": "8137b4e8-4c35-48ee-90bc-15d6a348e0b4",
   "metadata": {
    "slideshow": {
     "slide_type": "slide"
    },
    "tags": []
   },
   "source": [
    "# Random frontend thoughts/questions\n",
    "\n",
    "- (more or less) functional command-line interface (mostly for development)\n",
    "- modularity:\n",
    "  - 'indirect' design: strategies/rules which components and how to place them\n",
    "  - writing extensions (custom data type preview, etc.) should be easy & accessible for devs outside core team\n",
    "- progressive dev strategy?\n",
    "  - implement 'fixed', pre-assembled workflows\n",
    "  - implement dynamic data exploration option\n",
    "- major components:\n",
    "  - data navigator/browser\n",
    "  - data type specific preview/filter/query components\n",
    "  "
   ]
  },
  {
   "cell_type": "markdown",
   "id": "f9f33a64-ba12-43b1-b6e0-054f379a5d15",
   "metadata": {
    "slideshow": {
     "slide_type": "slide"
    },
    "tags": []
   },
   "source": [
    "# Random frontend thoughts/questions, pt. II\n",
    "\n",
    "- trade-offs:\n",
    "  - usefulness > useability\n",
    "  - flexibility > clunkyness\n",
    "  - (enforced?) best data practices -- intuitiveness\n",
    "- educational aspect:\n",
    "  - make inherent data management concepts intuitive\n",
    "  - make users understand difference between raw data (files) and (meaningful) structured pieces of data (context-dependent in some cases)\n",
    "- tools to take inspiration from:\n",
    "  - no/low-code tools (tooljet, appsmith, airtable, n8n, node-red, patterns, windmill,...)\n",
    "  - business-intelligence tools (superset, metabase, tableau, ...)\n",
    "  - domain specific apps (gephi, ...)\n",
    "  - notebook and similar products (jupyter, streamlit, plotly dash, observable, ...)\n"
   ]
  }
 ],
 "metadata": {
  "kernelspec": {
   "display_name": "Python 3 (ipykernel)",
   "language": "python",
   "name": "python3"
  },
  "language_info": {
   "codemirror_mode": {
    "name": "ipython",
    "version": 3
   },
   "file_extension": ".py",
   "mimetype": "text/x-python",
   "name": "python",
   "nbconvert_exporter": "python",
   "pygments_lexer": "ipython3",
   "version": "3.10.0"
  }
 },
 "nbformat": 4,
 "nbformat_minor": 5
}
